{
 "cells": [
  {
   "cell_type": "markdown",
   "metadata": {},
   "source": [
    "# GlobalHumanTree mutational spectra analitics"
   ]
  },
  {
   "cell_type": "code",
   "execution_count": 1,
   "metadata": {},
   "outputs": [],
   "source": [
    "import warnings\n",
    "warnings.filterwarnings(\"ignore\")\n",
    "\n",
    "import os\n",
    "import sys\n",
    "import re\n",
    "import json\n",
    "from collections import defaultdict\n",
    "from functools import reduce, partial\n",
    "from typing import List, Set, Tuple, Union\n",
    "\n",
    "import numpy as np\n",
    "import pandas as pd\n",
    "import matplotlib\n",
    "import matplotlib.pyplot as plt\n",
    "import seaborn as sns\n",
    "from Bio.Data import CodonTable\n",
    "from Bio.Data.CodonTable import NCBICodonTableDNA\n",
    "from Bio import SeqIO\n",
    "from scipy import spatial\n",
    "\n",
    "from mutspec.annotation import (\n",
    "    calculate_mutspec, CodonAnnotation, mutations_summary, \n",
    "    translator, rev_comp, lbl2lbl_id, lbl_id2lbl\n",
    ")\n",
    "from mutspec.constants import possible_codons, possible_sbs12, possible_sbs192\n",
    "from mutspec.io import read_genbank_ref\n",
    "from mutspec.draw.mut import plot_mutspec12, plot_mutspec192, plot_mutspec192kk\n",
    "\n",
    "sns.set_style()\n",
    "coda = CodonAnnotation(2)"
   ]
  },
  {
   "cell_type": "markdown",
   "metadata": {},
   "source": [
    "Format is self-explanatory. It is reasonalbe to apply common logic filters: (i) in both ancestral and derived 5 nucleotide windows there are only A T G C (ii) only Syn (iii) may be you have more filters..\n",
    "\n",
    "first == ancestral node; second == derived node. if derived node consists of number only it means this node is internal (if there are Letters - external). For now I recomend to work with ALL nodes, but in the near future we will ask the same question (12Syn, 192Syn) separately for internal nodes and separately for external. So it is good to keep it in the pocket."
   ]
  },
  {
   "cell_type": "markdown",
   "metadata": {},
   "source": [
    "## Load human global tree mutation dataset (observed)"
   ]
  },
  {
   "cell_type": "code",
   "execution_count": 6,
   "metadata": {},
   "outputs": [
    {
     "data": {
      "text/html": [
       "<div>\n",
       "<style scoped>\n",
       "    .dataframe tbody tr th:only-of-type {\n",
       "        vertical-align: middle;\n",
       "    }\n",
       "\n",
       "    .dataframe tbody tr th {\n",
       "        vertical-align: top;\n",
       "    }\n",
       "\n",
       "    .dataframe thead th {\n",
       "        text-align: right;\n",
       "    }\n",
       "</style>\n",
       "<table border=\"1\" class=\"dataframe\">\n",
       "  <thead>\n",
       "    <tr style=\"text-align: right;\">\n",
       "      <th></th>\n",
       "      <th>first</th>\n",
       "      <th>second</th>\n",
       "      <th>position</th>\n",
       "      <th>ref_pos</th>\n",
       "      <th>ancestor</th>\n",
       "      <th>descendant</th>\n",
       "      <th>nuc_ref_in_ali</th>\n",
       "      <th>gene_info</th>\n",
       "      <th>gene_start</th>\n",
       "      <th>pos_in_codon</th>\n",
       "      <th>synonymous</th>\n",
       "      <th>ancestral_aa</th>\n",
       "      <th>derived_aa</th>\n",
       "      <th>note</th>\n",
       "    </tr>\n",
       "  </thead>\n",
       "  <tbody>\n",
       "    <tr>\n",
       "      <th>0</th>\n",
       "      <td>28409</td>\n",
       "      <td>AM_PR_0048</td>\n",
       "      <td>174</td>\n",
       "      <td>150</td>\n",
       "      <td>ttTc-</td>\n",
       "      <td>ttCc-</td>\n",
       "      <td>C</td>\n",
       "      <td>D-loop_2</td>\n",
       "      <td>NaN</td>\n",
       "      <td>NaN</td>\n",
       "      <td>NaN</td>\n",
       "      <td>NaN</td>\n",
       "      <td>NaN</td>\n",
       "      <td>non-coding</td>\n",
       "    </tr>\n",
       "    <tr>\n",
       "      <th>1</th>\n",
       "      <td>28409</td>\n",
       "      <td>AM_PR_0048</td>\n",
       "      <td>593</td>\n",
       "      <td>522</td>\n",
       "      <td>acTc-</td>\n",
       "      <td>acAc-</td>\n",
       "      <td>A</td>\n",
       "      <td>D-loop_2</td>\n",
       "      <td>NaN</td>\n",
       "      <td>NaN</td>\n",
       "      <td>NaN</td>\n",
       "      <td>NaN</td>\n",
       "      <td>NaN</td>\n",
       "      <td>non-coding</td>\n",
       "    </tr>\n",
       "    <tr>\n",
       "      <th>2</th>\n",
       "      <td>28409</td>\n",
       "      <td>AM_PR_0048</td>\n",
       "      <td>5007</td>\n",
       "      <td>4840</td>\n",
       "      <td>ctAac</td>\n",
       "      <td>ctGac</td>\n",
       "      <td>G</td>\n",
       "      <td>mRNA_ND2</td>\n",
       "      <td>4469.0</td>\n",
       "      <td>1.0</td>\n",
       "      <td>non-synonymous</td>\n",
       "      <td>Asn</td>\n",
       "      <td>Asp</td>\n",
       "      <td>normal</td>\n",
       "    </tr>\n",
       "    <tr>\n",
       "      <th>3</th>\n",
       "      <td>28409</td>\n",
       "      <td>AM_PR_0048</td>\n",
       "      <td>7971</td>\n",
       "      <td>7774</td>\n",
       "      <td>ccGtc</td>\n",
       "      <td>ccRtc</td>\n",
       "      <td>G</td>\n",
       "      <td>mRNA_COX2</td>\n",
       "      <td>7585.0</td>\n",
       "      <td>2.0</td>\n",
       "      <td>non-synonymous</td>\n",
       "      <td>Arg</td>\n",
       "      <td>Ambiguous</td>\n",
       "      <td>normal</td>\n",
       "    </tr>\n",
       "    <tr>\n",
       "      <th>4</th>\n",
       "      <td>28409</td>\n",
       "      <td>AM_PR_0048</td>\n",
       "      <td>8017</td>\n",
       "      <td>7820</td>\n",
       "      <td>ccCat</td>\n",
       "      <td>ccMat</td>\n",
       "      <td>C</td>\n",
       "      <td>mRNA_COX2</td>\n",
       "      <td>7585.0</td>\n",
       "      <td>3.0</td>\n",
       "      <td>synonymous</td>\n",
       "      <td>Pro</td>\n",
       "      <td>Pro</td>\n",
       "      <td>normal</td>\n",
       "    </tr>\n",
       "  </tbody>\n",
       "</table>\n",
       "</div>"
      ],
      "text/plain": [
       "   first      second  position  ref_pos ancestor descendant nuc_ref_in_ali  \\\n",
       "0  28409  AM_PR_0048       174      150    ttTc-      ttCc-              C   \n",
       "1  28409  AM_PR_0048       593      522    acTc-      acAc-              A   \n",
       "2  28409  AM_PR_0048      5007     4840    ctAac      ctGac              G   \n",
       "3  28409  AM_PR_0048      7971     7774    ccGtc      ccRtc              G   \n",
       "4  28409  AM_PR_0048      8017     7820    ccCat      ccMat              C   \n",
       "\n",
       "   gene_info  gene_start  pos_in_codon      synonymous ancestral_aa  \\\n",
       "0   D-loop_2         NaN           NaN             NaN          NaN   \n",
       "1   D-loop_2         NaN           NaN             NaN          NaN   \n",
       "2   mRNA_ND2      4469.0           1.0  non-synonymous          Asn   \n",
       "3  mRNA_COX2      7585.0           2.0  non-synonymous          Arg   \n",
       "4  mRNA_COX2      7585.0           3.0      synonymous          Pro   \n",
       "\n",
       "  derived_aa        note  \n",
       "0        NaN  non-coding  \n",
       "1        NaN  non-coding  \n",
       "2        Asp      normal  \n",
       "3  Ambiguous      normal  \n",
       "4        Pro      normal  "
      ]
     },
     "execution_count": 6,
     "metadata": {},
     "output_type": "execute_result"
    }
   ],
   "source": [
    "path_to_muts = \"../data/external/fulltreeCodons.csv\"\n",
    "if not os.path.exists(path_to_muts):\n",
    "    path_to_muts = \"https://raw.githubusercontent.com/polarsong/mtDNA_mutspectrum/human-global-tree/Body/3Results/fulltreeCodons.csv\"\n",
    "mut_raw = pd.read_csv(path_to_muts, sep=\";\")\n",
    "mut_raw.head()"
   ]
  },
  {
   "cell_type": "markdown",
   "metadata": {},
   "source": [
    "### Extend features"
   ]
  },
  {
   "cell_type": "code",
   "execution_count": 9,
   "metadata": {},
   "outputs": [],
   "source": [
    "mut = mut_raw.rename(columns={\"synonymous\": \"is_syn\"})\n",
    "mut[\"is_syn\"] = mut[\"is_syn\"].map({\"non-synonymous\": 0, \"synonymous\": 1}).astype(np.float16)\n",
    "mut[\"is_leaf\"] = (~mut.second.str.contains(\"^\\d+$\")).astype(np.int8)\n",
    "mut[\"is_cds\"] = mut.gene_info.str.contains(\"mRNA\").astype(np.int8)\n",
    "\n",
    "mut[\"Mut\"] = mut[\"ancestor\"].str.get(1) + \"[\" + mut[\"ancestor\"].str.get(2) + \">\" + mut[\"descendant\"].str.get(2) + \"]\" + mut[\"descendant\"].str.get(3)\n",
    "mut[\"Mut\"] = mut[\"Mut\"].str.upper()"
   ]
  },
  {
   "cell_type": "code",
   "execution_count": 10,
   "metadata": {},
   "outputs": [],
   "source": [
    "def _extract_codon(ser: pd.Series, cxt_column):\n",
    "    \"extract codon from 2 columns: `cxt_column` and pos_in_codon\"\n",
    "    if ser.pos_in_codon in {1,2,3}:\n",
    "        cxt = ser[cxt_column]\n",
    "        cdn_start = 2 - int(ser.pos_in_codon) + 1\n",
    "        cdn = cxt[cdn_start: cdn_start + 3].upper()\n",
    "        return cdn\n",
    "    else:\n",
    "        return np.nan\n",
    "\n",
    "mut[\"ref_cdn\"] = mut.apply(partial(_extract_codon, cxt_column=\"ancestor\"),   axis=1)\n",
    "mut[\"alt_cdn\"] = mut.apply(partial(_extract_codon, cxt_column=\"descendant\"), axis=1)\n",
    "mut[\"ref_aa\"] = mut[\"ref_cdn\"].apply(coda.translate_codon)\n",
    "mut[\"alt_aa\"] = mut[\"alt_cdn\"].apply(coda.translate_codon)\n",
    "mut[\"IsSyn\"] = (mut[\"ref_aa\"] == mut[\"alt_aa\"]).astype(np.int8)"
   ]
  },
  {
   "cell_type": "code",
   "execution_count": 11,
   "metadata": {},
   "outputs": [
    {
     "data": {
      "text/html": [
       "<div>\n",
       "<style scoped>\n",
       "    .dataframe tbody tr th:only-of-type {\n",
       "        vertical-align: middle;\n",
       "    }\n",
       "\n",
       "    .dataframe tbody tr th {\n",
       "        vertical-align: top;\n",
       "    }\n",
       "\n",
       "    .dataframe thead th {\n",
       "        text-align: right;\n",
       "    }\n",
       "</style>\n",
       "<table border=\"1\" class=\"dataframe\">\n",
       "  <thead>\n",
       "    <tr style=\"text-align: right;\">\n",
       "      <th></th>\n",
       "      <th>first</th>\n",
       "      <th>second</th>\n",
       "      <th>position</th>\n",
       "      <th>ref_pos</th>\n",
       "      <th>ancestor</th>\n",
       "      <th>descendant</th>\n",
       "      <th>nuc_ref_in_ali</th>\n",
       "      <th>gene_info</th>\n",
       "      <th>gene_start</th>\n",
       "      <th>pos_in_codon</th>\n",
       "      <th>...</th>\n",
       "      <th>derived_aa</th>\n",
       "      <th>note</th>\n",
       "      <th>is_leaf</th>\n",
       "      <th>is_cds</th>\n",
       "      <th>Mut</th>\n",
       "      <th>ref_cdn</th>\n",
       "      <th>alt_cdn</th>\n",
       "      <th>ref_aa</th>\n",
       "      <th>alt_aa</th>\n",
       "      <th>IsSyn</th>\n",
       "    </tr>\n",
       "  </thead>\n",
       "  <tbody>\n",
       "    <tr>\n",
       "      <th>0</th>\n",
       "      <td>28409</td>\n",
       "      <td>AM_PR_0048</td>\n",
       "      <td>174</td>\n",
       "      <td>150</td>\n",
       "      <td>ttTc-</td>\n",
       "      <td>ttCc-</td>\n",
       "      <td>C</td>\n",
       "      <td>D-loop_2</td>\n",
       "      <td>NaN</td>\n",
       "      <td>NaN</td>\n",
       "      <td>...</td>\n",
       "      <td>NaN</td>\n",
       "      <td>non-coding</td>\n",
       "      <td>1</td>\n",
       "      <td>0</td>\n",
       "      <td>T[T&gt;C]C</td>\n",
       "      <td>NaN</td>\n",
       "      <td>NaN</td>\n",
       "      <td>NaN</td>\n",
       "      <td>NaN</td>\n",
       "      <td>0</td>\n",
       "    </tr>\n",
       "    <tr>\n",
       "      <th>1</th>\n",
       "      <td>28409</td>\n",
       "      <td>AM_PR_0048</td>\n",
       "      <td>593</td>\n",
       "      <td>522</td>\n",
       "      <td>acTc-</td>\n",
       "      <td>acAc-</td>\n",
       "      <td>A</td>\n",
       "      <td>D-loop_2</td>\n",
       "      <td>NaN</td>\n",
       "      <td>NaN</td>\n",
       "      <td>...</td>\n",
       "      <td>NaN</td>\n",
       "      <td>non-coding</td>\n",
       "      <td>1</td>\n",
       "      <td>0</td>\n",
       "      <td>C[T&gt;A]C</td>\n",
       "      <td>NaN</td>\n",
       "      <td>NaN</td>\n",
       "      <td>NaN</td>\n",
       "      <td>NaN</td>\n",
       "      <td>0</td>\n",
       "    </tr>\n",
       "    <tr>\n",
       "      <th>2</th>\n",
       "      <td>28409</td>\n",
       "      <td>AM_PR_0048</td>\n",
       "      <td>5007</td>\n",
       "      <td>4840</td>\n",
       "      <td>ctAac</td>\n",
       "      <td>ctGac</td>\n",
       "      <td>G</td>\n",
       "      <td>mRNA_ND2</td>\n",
       "      <td>4469.0</td>\n",
       "      <td>1.0</td>\n",
       "      <td>...</td>\n",
       "      <td>Asp</td>\n",
       "      <td>normal</td>\n",
       "      <td>1</td>\n",
       "      <td>1</td>\n",
       "      <td>T[A&gt;G]A</td>\n",
       "      <td>AAC</td>\n",
       "      <td>GAC</td>\n",
       "      <td>N</td>\n",
       "      <td>D</td>\n",
       "      <td>0</td>\n",
       "    </tr>\n",
       "    <tr>\n",
       "      <th>3</th>\n",
       "      <td>28409</td>\n",
       "      <td>AM_PR_0048</td>\n",
       "      <td>7971</td>\n",
       "      <td>7774</td>\n",
       "      <td>ccGtc</td>\n",
       "      <td>ccRtc</td>\n",
       "      <td>G</td>\n",
       "      <td>mRNA_COX2</td>\n",
       "      <td>7585.0</td>\n",
       "      <td>2.0</td>\n",
       "      <td>...</td>\n",
       "      <td>Ambiguous</td>\n",
       "      <td>normal</td>\n",
       "      <td>1</td>\n",
       "      <td>1</td>\n",
       "      <td>C[G&gt;R]T</td>\n",
       "      <td>CGT</td>\n",
       "      <td>CRT</td>\n",
       "      <td>R</td>\n",
       "      <td>*</td>\n",
       "      <td>0</td>\n",
       "    </tr>\n",
       "    <tr>\n",
       "      <th>4</th>\n",
       "      <td>28409</td>\n",
       "      <td>AM_PR_0048</td>\n",
       "      <td>8017</td>\n",
       "      <td>7820</td>\n",
       "      <td>ccCat</td>\n",
       "      <td>ccMat</td>\n",
       "      <td>C</td>\n",
       "      <td>mRNA_COX2</td>\n",
       "      <td>7585.0</td>\n",
       "      <td>3.0</td>\n",
       "      <td>...</td>\n",
       "      <td>Pro</td>\n",
       "      <td>normal</td>\n",
       "      <td>1</td>\n",
       "      <td>1</td>\n",
       "      <td>C[C&gt;M]A</td>\n",
       "      <td>CCC</td>\n",
       "      <td>CCM</td>\n",
       "      <td>P</td>\n",
       "      <td>*</td>\n",
       "      <td>0</td>\n",
       "    </tr>\n",
       "  </tbody>\n",
       "</table>\n",
       "<p>5 rows × 22 columns</p>\n",
       "</div>"
      ],
      "text/plain": [
       "   first      second  position  ref_pos ancestor descendant nuc_ref_in_ali  \\\n",
       "0  28409  AM_PR_0048       174      150    ttTc-      ttCc-              C   \n",
       "1  28409  AM_PR_0048       593      522    acTc-      acAc-              A   \n",
       "2  28409  AM_PR_0048      5007     4840    ctAac      ctGac              G   \n",
       "3  28409  AM_PR_0048      7971     7774    ccGtc      ccRtc              G   \n",
       "4  28409  AM_PR_0048      8017     7820    ccCat      ccMat              C   \n",
       "\n",
       "   gene_info  gene_start  pos_in_codon  ...  derived_aa        note is_leaf  \\\n",
       "0   D-loop_2         NaN           NaN  ...         NaN  non-coding       1   \n",
       "1   D-loop_2         NaN           NaN  ...         NaN  non-coding       1   \n",
       "2   mRNA_ND2      4469.0           1.0  ...         Asp      normal       1   \n",
       "3  mRNA_COX2      7585.0           2.0  ...   Ambiguous      normal       1   \n",
       "4  mRNA_COX2      7585.0           3.0  ...         Pro      normal       1   \n",
       "\n",
       "  is_cds      Mut  ref_cdn alt_cdn ref_aa alt_aa IsSyn  \n",
       "0      0  T[T>C]C      NaN     NaN    NaN    NaN     0  \n",
       "1      0  C[T>A]C      NaN     NaN    NaN    NaN     0  \n",
       "2      1  T[A>G]A      AAC     GAC      N      D     0  \n",
       "3      1  C[G>R]T      CGT     CRT      R      *     0  \n",
       "4      1  C[C>M]A      CCC     CCM      P      *     0  \n",
       "\n",
       "[5 rows x 22 columns]"
      ]
     },
     "execution_count": 11,
     "metadata": {},
     "output_type": "execute_result"
    }
   ],
   "source": [
    "mut.head()"
   ]
  },
  {
   "cell_type": "markdown",
   "metadata": {},
   "source": [
    "## Explore mut dataset"
   ]
  },
  {
   "cell_type": "code",
   "execution_count": 12,
   "metadata": {},
   "outputs": [
    {
     "data": {
      "text/plain": [
       "105980"
      ]
     },
     "execution_count": 12,
     "metadata": {},
     "output_type": "execute_result"
    }
   ],
   "source": [
    "len(set(mut[\"first\"]).union(set(mut[\"second\"])))"
   ]
  },
  {
   "cell_type": "code",
   "execution_count": 13,
   "metadata": {},
   "outputs": [
    {
     "data": {
      "text/plain": [
       "D-loop_1          114760\n",
       "D-loop_2           78661\n",
       "mRNA_ND5           51977\n",
       "mRNA_CYTB          37105\n",
       "mRNA_COX1          35396\n",
       "mRNA_ND4           33257\n",
       "mRNA_ND2           31506\n",
       "mRNA_ND1           26847\n",
       "mRNA_ATP6          23331\n",
       "rRNA_RNR2          20396\n",
       "mRNA_COX3          20272\n",
       "mRNA_COX2          17713\n",
       "rRNA_RNR1          16983\n",
       "mRNA_ND6           15439\n",
       "mRNA_ND3           10153\n",
       "mRNA_ND4L           5820\n",
       "mRNA_ATP8           5177\n",
       "tRNA_TRNT           4416\n",
       "tRNA_TRNC           1842\n",
       "mRNA_ATP8&ATP6      1787\n",
       "tRNA_TRNS2          1534\n",
       "tRNA_TRNH           1459\n",
       "Spacer3             1424\n",
       "tRNA_TRNA           1394\n",
       "tRNA_TRNF           1367\n",
       "tRNA_TRNG           1367\n",
       "tRNA_TRNW           1294\n",
       "Spacer7             1250\n",
       "tRNA_TRNR           1244\n",
       "tRNA_TRNQ           1229\n",
       "tRNA_TRNK           1147\n",
       "tRNA_TRNE           1025\n",
       "tRNA_TRND           1022\n",
       "None                 967\n",
       "tRNA_TRNL2           836\n",
       "tRNA_TRNM            772\n",
       "tRNA_TRNI            713\n",
       "tRNA_TRNP            661\n",
       "tRNA_TRNS1           560\n",
       "Spacer4              511\n",
       "tRNA_TRNY            493\n",
       "tRNA_TRNL1           491\n",
       "Spacer5              458\n",
       "tRNA_TRNV            451\n",
       "tRNA_TRNN            438\n",
       "Spacer10             136\n",
       "Spacer9               75\n",
       "Spacer6               41\n",
       "Spacer1               21\n",
       "tRNA_TRNC&TRNY        19\n",
       "Spacer8               14\n",
       "mRNA_ND4L&ND4         10\n",
       "Spacer2                8\n",
       "tRNA_TRNI&TRNQ         7\n",
       "Name: gene_info, dtype: int64"
      ]
     },
     "execution_count": 13,
     "metadata": {},
     "output_type": "execute_result"
    }
   ],
   "source": [
    "mut.gene_info.value_counts()"
   ]
  },
  {
   "cell_type": "markdown",
   "metadata": {},
   "source": [
    "## Filter mutations\n",
    "- only syn\n",
    "- without ambigous nucleotides in pentanucl context\n",
    "- without ND6\n",
    "- only one mutation in pentanucleotide context"
   ]
  },
  {
   "cell_type": "code",
   "execution_count": 14,
   "metadata": {},
   "outputs": [
    {
     "name": "stdout",
     "output_type": "stream",
     "text": [
      "Mut numbers: 577276\n",
      "After filtration: 103281\n"
     ]
    },
    {
     "data": {
      "text/html": [
       "<div>\n",
       "<style scoped>\n",
       "    .dataframe tbody tr th:only-of-type {\n",
       "        vertical-align: middle;\n",
       "    }\n",
       "\n",
       "    .dataframe tbody tr th {\n",
       "        vertical-align: top;\n",
       "    }\n",
       "\n",
       "    .dataframe thead th {\n",
       "        text-align: right;\n",
       "    }\n",
       "</style>\n",
       "<table border=\"1\" class=\"dataframe\">\n",
       "  <thead>\n",
       "    <tr style=\"text-align: right;\">\n",
       "      <th></th>\n",
       "      <th>first</th>\n",
       "      <th>second</th>\n",
       "      <th>position</th>\n",
       "      <th>ref_pos</th>\n",
       "      <th>ancestor</th>\n",
       "      <th>descendant</th>\n",
       "      <th>nuc_ref_in_ali</th>\n",
       "      <th>gene_info</th>\n",
       "      <th>gene_start</th>\n",
       "      <th>pos_in_codon</th>\n",
       "      <th>...</th>\n",
       "      <th>derived_aa</th>\n",
       "      <th>note</th>\n",
       "      <th>is_leaf</th>\n",
       "      <th>is_cds</th>\n",
       "      <th>Mut</th>\n",
       "      <th>ref_cdn</th>\n",
       "      <th>alt_cdn</th>\n",
       "      <th>ref_aa</th>\n",
       "      <th>alt_aa</th>\n",
       "      <th>IsSyn</th>\n",
       "    </tr>\n",
       "  </thead>\n",
       "  <tbody>\n",
       "    <tr>\n",
       "      <th>14</th>\n",
       "      <td>17837</td>\n",
       "      <td>EU_IT_0648</td>\n",
       "      <td>3642</td>\n",
       "      <td>3482</td>\n",
       "      <td>gaAcc</td>\n",
       "      <td>gaGcc</td>\n",
       "      <td>G</td>\n",
       "      <td>mRNA_ND1</td>\n",
       "      <td>3306.0</td>\n",
       "      <td>3.0</td>\n",
       "      <td>...</td>\n",
       "      <td>Glu</td>\n",
       "      <td>normal</td>\n",
       "      <td>1</td>\n",
       "      <td>1</td>\n",
       "      <td>A[A&gt;G]C</td>\n",
       "      <td>GAA</td>\n",
       "      <td>GAG</td>\n",
       "      <td>E</td>\n",
       "      <td>E</td>\n",
       "      <td>1</td>\n",
       "    </tr>\n",
       "    <tr>\n",
       "      <th>20</th>\n",
       "      <td>6484</td>\n",
       "      <td>EU_GB_0203</td>\n",
       "      <td>8826</td>\n",
       "      <td>8598</td>\n",
       "      <td>ttTta</td>\n",
       "      <td>ttCta</td>\n",
       "      <td>C</td>\n",
       "      <td>mRNA_ATP6</td>\n",
       "      <td>8526.0</td>\n",
       "      <td>3.0</td>\n",
       "      <td>...</td>\n",
       "      <td>Phe</td>\n",
       "      <td>normal</td>\n",
       "      <td>1</td>\n",
       "      <td>1</td>\n",
       "      <td>T[T&gt;C]T</td>\n",
       "      <td>TTT</td>\n",
       "      <td>TTC</td>\n",
       "      <td>F</td>\n",
       "      <td>F</td>\n",
       "      <td>1</td>\n",
       "    </tr>\n",
       "    <tr>\n",
       "      <th>22</th>\n",
       "      <td>6484</td>\n",
       "      <td>EU_GB_0203</td>\n",
       "      <td>14184</td>\n",
       "      <td>13942</td>\n",
       "      <td>caCaa</td>\n",
       "      <td>caTaa</td>\n",
       "      <td>C</td>\n",
       "      <td>mRNA_ND5</td>\n",
       "      <td>12336.0</td>\n",
       "      <td>3.0</td>\n",
       "      <td>...</td>\n",
       "      <td>His</td>\n",
       "      <td>normal</td>\n",
       "      <td>1</td>\n",
       "      <td>1</td>\n",
       "      <td>A[C&gt;T]A</td>\n",
       "      <td>CAC</td>\n",
       "      <td>CAT</td>\n",
       "      <td>H</td>\n",
       "      <td>H</td>\n",
       "      <td>1</td>\n",
       "    </tr>\n",
       "    <tr>\n",
       "      <th>26</th>\n",
       "      <td>15298</td>\n",
       "      <td>11475</td>\n",
       "      <td>12801</td>\n",
       "      <td>12560</td>\n",
       "      <td>caAct</td>\n",
       "      <td>caGct</td>\n",
       "      <td>G</td>\n",
       "      <td>mRNA_ND5</td>\n",
       "      <td>12336.0</td>\n",
       "      <td>3.0</td>\n",
       "      <td>...</td>\n",
       "      <td>Gln</td>\n",
       "      <td>normal</td>\n",
       "      <td>0</td>\n",
       "      <td>1</td>\n",
       "      <td>A[A&gt;G]C</td>\n",
       "      <td>CAA</td>\n",
       "      <td>CAG</td>\n",
       "      <td>Q</td>\n",
       "      <td>Q</td>\n",
       "      <td>1</td>\n",
       "    </tr>\n",
       "    <tr>\n",
       "      <th>29</th>\n",
       "      <td>33133</td>\n",
       "      <td>7947</td>\n",
       "      <td>3555</td>\n",
       "      <td>3395</td>\n",
       "      <td>taCat</td>\n",
       "      <td>taTat</td>\n",
       "      <td>T</td>\n",
       "      <td>mRNA_ND1</td>\n",
       "      <td>3306.0</td>\n",
       "      <td>3.0</td>\n",
       "      <td>...</td>\n",
       "      <td>Tyr</td>\n",
       "      <td>normal</td>\n",
       "      <td>0</td>\n",
       "      <td>1</td>\n",
       "      <td>A[C&gt;T]A</td>\n",
       "      <td>TAC</td>\n",
       "      <td>TAT</td>\n",
       "      <td>Y</td>\n",
       "      <td>Y</td>\n",
       "      <td>1</td>\n",
       "    </tr>\n",
       "  </tbody>\n",
       "</table>\n",
       "<p>5 rows × 22 columns</p>\n",
       "</div>"
      ],
      "text/plain": [
       "    first      second  position  ref_pos ancestor descendant nuc_ref_in_ali  \\\n",
       "14  17837  EU_IT_0648      3642     3482    gaAcc      gaGcc              G   \n",
       "20   6484  EU_GB_0203      8826     8598    ttTta      ttCta              C   \n",
       "22   6484  EU_GB_0203     14184    13942    caCaa      caTaa              C   \n",
       "26  15298       11475     12801    12560    caAct      caGct              G   \n",
       "29  33133        7947      3555     3395    taCat      taTat              T   \n",
       "\n",
       "    gene_info  gene_start  pos_in_codon  ...  derived_aa    note is_leaf  \\\n",
       "14   mRNA_ND1      3306.0           3.0  ...         Glu  normal       1   \n",
       "20  mRNA_ATP6      8526.0           3.0  ...         Phe  normal       1   \n",
       "22   mRNA_ND5     12336.0           3.0  ...         His  normal       1   \n",
       "26   mRNA_ND5     12336.0           3.0  ...         Gln  normal       0   \n",
       "29   mRNA_ND1      3306.0           3.0  ...         Tyr  normal       0   \n",
       "\n",
       "   is_cds      Mut  ref_cdn alt_cdn ref_aa alt_aa IsSyn  \n",
       "14      1  A[A>G]C      GAA     GAG      E      E     1  \n",
       "20      1  T[T>C]T      TTT     TTC      F      F     1  \n",
       "22      1  A[C>T]A      CAC     CAT      H      H     1  \n",
       "26      1  A[A>G]C      CAA     CAG      Q      Q     1  \n",
       "29      1  A[C>T]A      TAC     TAT      Y      Y     1  \n",
       "\n",
       "[5 rows x 22 columns]"
      ]
     },
     "execution_count": 14,
     "metadata": {},
     "output_type": "execute_result"
    }
   ],
   "source": [
    "muts_filtered = mut[\n",
    "    (mut.is_syn == 1) &\n",
    "    (mut.ancestor.str.contains(\"[acgt]{2}[ACGT][acgt]{2}\")) &\n",
    "    (mut.descendant.str.contains(\"[acgt]{2}[ACGT][acgt]{2}\")) &\n",
    "    (~mut.gene_info.str.contains(\"ND6\")) &\n",
    "    (mut.apply(lambda x: sum([x != y for x, y in zip(x.ancestor, x.descendant)]) == 1, axis=1))\n",
    "]\n",
    "print(\"Mut numbers:\", mut.shape[0])\n",
    "print(\"After filtration:\", muts_filtered.shape[0])\n",
    "muts_filtered.head()"
   ]
  },
  {
   "cell_type": "code",
   "execution_count": 15,
   "metadata": {},
   "outputs": [
    {
     "data": {
      "text/plain": [
       "Index(['first', 'second', 'position', 'ref_pos', 'ancestor', 'descendant',\n",
       "       'nuc_ref_in_ali', 'gene_info', 'gene_start', 'pos_in_codon', 'is_syn',\n",
       "       'ancestral_aa', 'derived_aa', 'note', 'is_leaf', 'is_cds', 'Mut',\n",
       "       'ref_cdn', 'alt_cdn', 'ref_aa', 'alt_aa', 'IsSyn'],\n",
       "      dtype='object')"
      ]
     },
     "execution_count": 15,
     "metadata": {},
     "output_type": "execute_result"
    }
   ],
   "source": [
    "muts_filtered.columns"
   ]
  },
  {
   "cell_type": "code",
   "execution_count": 18,
   "metadata": {},
   "outputs": [],
   "source": [
    "muts_filtered.to_csv(\"../data/interim/mutations_syn.csv\", index=None)"
   ]
  },
  {
   "cell_type": "markdown",
   "metadata": {},
   "source": [
    "### Old annotation is correct"
   ]
  },
  {
   "cell_type": "code",
   "execution_count": 16,
   "metadata": {},
   "outputs": [
    {
     "data": {
      "text/plain": [
       "True"
      ]
     },
     "execution_count": 16,
     "metadata": {},
     "output_type": "execute_result"
    }
   ],
   "source": [
    "np.all(muts_filtered.is_syn == muts_filtered.IsSyn)"
   ]
  },
  {
   "cell_type": "markdown",
   "metadata": {},
   "source": [
    "### Explore filtered mut dataset"
   ]
  },
  {
   "cell_type": "code",
   "execution_count": 69,
   "metadata": {},
   "outputs": [
    {
     "data": {
      "image/png": "[encoded data removed]",
      "text/plain": [
       "<Figure size 1440x576 with 1 Axes>"
      ]
     },
     "metadata": {
      "needs_background": "light"
     },
     "output_type": "display_data"
    }
   ],
   "source": [
    "plt.figure(figsize=(20, 8))\n",
    "mut.position.hist(bins=500, alpha=0.5, label=\"All\", color=\"orange\")\n",
    "muts_filtered.position.hist(bins=500, alpha=0.7, label=\"Syn\", color=\"b\")\n",
    "# plt.yscale(\"log\")\n",
    "plt.xlim(0, 16900)\n",
    "plt.xlabel(\"Position\")\n",
    "plt.ylabel(\"#mutations\")\n",
    "plt.legend()\n",
    "plt.show()"
   ]
  },
  {
   "cell_type": "code",
   "execution_count": 70,
   "metadata": {},
   "outputs": [
    {
     "data": {
      "text/plain": [
       "3.0    96293\n",
       "1.0     6988\n",
       "Name: pos_in_codon, dtype: int64"
      ]
     },
     "execution_count": 70,
     "metadata": {},
     "output_type": "execute_result"
    }
   ],
   "source": [
    "muts_filtered.pos_in_codon.value_counts()"
   ]
  },
  {
   "cell_type": "code",
   "execution_count": 71,
   "metadata": {},
   "outputs": [
    {
     "data": {
      "text/plain": [
       "1    62571\n",
       "0    40710\n",
       "Name: is_leaf, dtype: int64"
      ]
     },
     "execution_count": 71,
     "metadata": {},
     "output_type": "execute_result"
    }
   ],
   "source": [
    "muts_filtered.is_leaf.value_counts()"
   ]
  },
  {
   "cell_type": "code",
   "execution_count": 72,
   "metadata": {},
   "outputs": [
    {
     "data": {
      "text/plain": [
       "Leu     20609\n",
       "Ser      8783\n",
       "Pro      7976\n",
       "Gly      6512\n",
       "Ala      5814\n",
       "Stop     5651\n",
       "Thr      5430\n",
       "Tyr      4562\n",
       "Glu      4553\n",
       "Ile      4298\n",
       "His      4242\n",
       "Met      4019\n",
       "Val      3659\n",
       "Trp      3281\n",
       "Gln      3185\n",
       "Asn      2981\n",
       "Lys      2759\n",
       "Phe      2676\n",
       "Asp      1095\n",
       "Arg       701\n",
       "Cys       495\n",
       "Name: derived_aa, dtype: int64"
      ]
     },
     "execution_count": 72,
     "metadata": {},
     "output_type": "execute_result"
    }
   ],
   "source": [
    "muts_filtered.derived_aa.value_counts()"
   ]
  },
  {
   "cell_type": "code",
   "execution_count": 75,
   "metadata": {},
   "outputs": [
    {
     "data": {
      "text/plain": [
       "mRNA_COX1         26077\n",
       "mRNA_ND1          15622\n",
       "mRNA_CYTB         12685\n",
       "mRNA_ND5           9446\n",
       "mRNA_ND4           9106\n",
       "mRNA_ATP6          8186\n",
       "mRNA_ND3           6142\n",
       "mRNA_ND4L          4731\n",
       "mRNA_COX3          4441\n",
       "mRNA_ND2           4322\n",
       "mRNA_ATP8          1188\n",
       "mRNA_COX2           917\n",
       "mRNA_ATP8&ATP6      414\n",
       "mRNA_ND4L&ND4         4\n",
       "Name: gene_info, dtype: int64"
      ]
     },
     "execution_count": 75,
     "metadata": {},
     "output_type": "execute_result"
    }
   ],
   "source": [
    "muts_filtered.gene_info.value_counts()"
   ]
  },
  {
   "cell_type": "code",
   "execution_count": 76,
   "metadata": {},
   "outputs": [
    {
     "data": {
      "text/plain": [
       "A[G>A]C    4392\n",
       "C[T>C]T    4324\n",
       "A[A>G]C    4225\n",
       "C[C>T]T    4062\n",
       "A[T>C]T    4009\n",
       "A[C>T]T    3726\n",
       "C[G>A]C    3199\n",
       "T[G>A]C    3122\n",
       "T[A>G]C    2993\n",
       "C[A>G]C    2976\n",
       "Name: Mut, dtype: int64"
      ]
     },
     "execution_count": 76,
     "metadata": {},
     "output_type": "execute_result"
    }
   ],
   "source": [
    "muts_filtered.Mut.value_counts().head(10)"
   ]
  },
  {
   "cell_type": "code",
   "execution_count": 77,
   "metadata": {},
   "outputs": [
    {
     "data": {
      "text/plain": [
       "C[G>C]G    4\n",
       "G[C>G]T    4\n",
       "G[A>T]A    4\n",
       "G[G>C]T    4\n",
       "T[C>G]G    4\n",
       "G[T>G]A    4\n",
       "G[G>C]C    4\n",
       "G[T>A]A    2\n",
       "G[A>T]T    2\n",
       "G[T>A]T    2\n",
       "Name: Mut, dtype: int64"
      ]
     },
     "execution_count": 77,
     "metadata": {},
     "output_type": "execute_result"
    }
   ],
   "source": [
    "muts_filtered.Mut.value_counts().tail(10)"
   ]
  },
  {
   "cell_type": "markdown",
   "metadata": {},
   "source": [
    "## Load saved filtered mutations"
   ]
  },
  {
   "cell_type": "code",
   "execution_count": 2,
   "metadata": {},
   "outputs": [
    {
     "data": {
      "text/html": [
       "<div>\n",
       "<style scoped>\n",
       "    .dataframe tbody tr th:only-of-type {\n",
       "        vertical-align: middle;\n",
       "    }\n",
       "\n",
       "    .dataframe tbody tr th {\n",
       "        vertical-align: top;\n",
       "    }\n",
       "\n",
       "    .dataframe thead th {\n",
       "        text-align: right;\n",
       "    }\n",
       "</style>\n",
       "<table border=\"1\" class=\"dataframe\">\n",
       "  <thead>\n",
       "    <tr style=\"text-align: right;\">\n",
       "      <th></th>\n",
       "      <th>first</th>\n",
       "      <th>second</th>\n",
       "      <th>position</th>\n",
       "      <th>ref_pos</th>\n",
       "      <th>ancestor</th>\n",
       "      <th>descendant</th>\n",
       "      <th>nuc_ref_in_ali</th>\n",
       "      <th>gene_info</th>\n",
       "      <th>gene_start</th>\n",
       "      <th>pos_in_codon</th>\n",
       "      <th>...</th>\n",
       "      <th>note</th>\n",
       "      <th>is_leaf</th>\n",
       "      <th>is_cds</th>\n",
       "      <th>Mut</th>\n",
       "      <th>ref_cdn</th>\n",
       "      <th>alt_cdn</th>\n",
       "      <th>ref_aa</th>\n",
       "      <th>alt_aa</th>\n",
       "      <th>IsSyn</th>\n",
       "      <th>Label</th>\n",
       "    </tr>\n",
       "  </thead>\n",
       "  <tbody>\n",
       "    <tr>\n",
       "      <th>0</th>\n",
       "      <td>17837</td>\n",
       "      <td>EU_IT_0648</td>\n",
       "      <td>3642</td>\n",
       "      <td>3482</td>\n",
       "      <td>gaAcc</td>\n",
       "      <td>gaGcc</td>\n",
       "      <td>G</td>\n",
       "      <td>mRNA_ND1</td>\n",
       "      <td>3306.0</td>\n",
       "      <td>3.0</td>\n",
       "      <td>...</td>\n",
       "      <td>normal</td>\n",
       "      <td>1</td>\n",
       "      <td>1</td>\n",
       "      <td>A[A&gt;G]C</td>\n",
       "      <td>GAA</td>\n",
       "      <td>GAG</td>\n",
       "      <td>E</td>\n",
       "      <td>E</td>\n",
       "      <td>1</td>\n",
       "      <td>1</td>\n",
       "    </tr>\n",
       "    <tr>\n",
       "      <th>1</th>\n",
       "      <td>6484</td>\n",
       "      <td>EU_GB_0203</td>\n",
       "      <td>8826</td>\n",
       "      <td>8598</td>\n",
       "      <td>ttTta</td>\n",
       "      <td>ttCta</td>\n",
       "      <td>C</td>\n",
       "      <td>mRNA_ATP6</td>\n",
       "      <td>8526.0</td>\n",
       "      <td>3.0</td>\n",
       "      <td>...</td>\n",
       "      <td>normal</td>\n",
       "      <td>1</td>\n",
       "      <td>1</td>\n",
       "      <td>T[T&gt;C]T</td>\n",
       "      <td>TTT</td>\n",
       "      <td>TTC</td>\n",
       "      <td>F</td>\n",
       "      <td>F</td>\n",
       "      <td>1</td>\n",
       "      <td>1</td>\n",
       "    </tr>\n",
       "  </tbody>\n",
       "</table>\n",
       "<p>2 rows × 23 columns</p>\n",
       "</div>"
      ],
      "text/plain": [
       "   first      second  position  ref_pos ancestor descendant nuc_ref_in_ali  \\\n",
       "0  17837  EU_IT_0648      3642     3482    gaAcc      gaGcc              G   \n",
       "1   6484  EU_GB_0203      8826     8598    ttTta      ttCta              C   \n",
       "\n",
       "   gene_info  gene_start  pos_in_codon  ...    note is_leaf is_cds      Mut  \\\n",
       "0   mRNA_ND1      3306.0           3.0  ...  normal       1      1  A[A>G]C   \n",
       "1  mRNA_ATP6      8526.0           3.0  ...  normal       1      1  T[T>C]T   \n",
       "\n",
       "   ref_cdn  alt_cdn ref_aa alt_aa IsSyn Label  \n",
       "0      GAA      GAG      E      E     1     1  \n",
       "1      TTT      TTC      F      F     1     1  \n",
       "\n",
       "[2 rows x 23 columns]"
      ]
     },
     "execution_count": 2,
     "metadata": {},
     "output_type": "execute_result"
    }
   ],
   "source": [
    "muts_filtered = pd.read_csv(\"../data/interim/mutations_syn.csv\")\n",
    "muts_filtered[\"Label\"] = 1\n",
    "muts_filtered.head(2)"
   ]
  },
  {
   "cell_type": "markdown",
   "metadata": {},
   "source": [
    "## Calculate expected mutations for Human mtDNA (all, syn, genes)"
   ]
  },
  {
   "cell_type": "code",
   "execution_count": 3,
   "metadata": {},
   "outputs": [
    {
     "name": "stdout",
     "output_type": "stream",
     "text": [
      "(10816, 10)\n"
     ]
    },
    {
     "data": {
      "text/html": [
       "<div>\n",
       "<style scoped>\n",
       "    .dataframe tbody tr th:only-of-type {\n",
       "        vertical-align: middle;\n",
       "    }\n",
       "\n",
       "    .dataframe tbody tr th {\n",
       "        vertical-align: top;\n",
       "    }\n",
       "\n",
       "    .dataframe thead th {\n",
       "        text-align: right;\n",
       "    }\n",
       "</style>\n",
       "<table border=\"1\" class=\"dataframe\">\n",
       "  <thead>\n",
       "    <tr style=\"text-align: right;\">\n",
       "      <th></th>\n",
       "      <th>Pos</th>\n",
       "      <th>Nuc</th>\n",
       "      <th>Context</th>\n",
       "      <th>Strand</th>\n",
       "      <th>Type</th>\n",
       "      <th>GeneName</th>\n",
       "      <th>PosInGene</th>\n",
       "      <th>PosInCodon</th>\n",
       "      <th>Codon</th>\n",
       "      <th>TBSS</th>\n",
       "    </tr>\n",
       "  </thead>\n",
       "  <tbody>\n",
       "    <tr>\n",
       "      <th>3306</th>\n",
       "      <td>3307</td>\n",
       "      <td>A</td>\n",
       "      <td>CAT</td>\n",
       "      <td>1</td>\n",
       "      <td>CDS</td>\n",
       "      <td>ND1</td>\n",
       "      <td>1</td>\n",
       "      <td>1</td>\n",
       "      <td>ATA</td>\n",
       "      <td>11741.0</td>\n",
       "    </tr>\n",
       "    <tr>\n",
       "      <th>3307</th>\n",
       "      <td>3308</td>\n",
       "      <td>T</td>\n",
       "      <td>ATA</td>\n",
       "      <td>1</td>\n",
       "      <td>CDS</td>\n",
       "      <td>ND1</td>\n",
       "      <td>2</td>\n",
       "      <td>2</td>\n",
       "      <td>ATA</td>\n",
       "      <td>11743.0</td>\n",
       "    </tr>\n",
       "    <tr>\n",
       "      <th>3308</th>\n",
       "      <td>3309</td>\n",
       "      <td>A</td>\n",
       "      <td>TAC</td>\n",
       "      <td>1</td>\n",
       "      <td>CDS</td>\n",
       "      <td>ND1</td>\n",
       "      <td>3</td>\n",
       "      <td>3</td>\n",
       "      <td>ATA</td>\n",
       "      <td>11745.0</td>\n",
       "    </tr>\n",
       "    <tr>\n",
       "      <th>3309</th>\n",
       "      <td>3310</td>\n",
       "      <td>C</td>\n",
       "      <td>ACC</td>\n",
       "      <td>1</td>\n",
       "      <td>CDS</td>\n",
       "      <td>ND1</td>\n",
       "      <td>4</td>\n",
       "      <td>1</td>\n",
       "      <td>CCC</td>\n",
       "      <td>11747.0</td>\n",
       "    </tr>\n",
       "    <tr>\n",
       "      <th>3310</th>\n",
       "      <td>3311</td>\n",
       "      <td>C</td>\n",
       "      <td>CCC</td>\n",
       "      <td>1</td>\n",
       "      <td>CDS</td>\n",
       "      <td>ND1</td>\n",
       "      <td>5</td>\n",
       "      <td>2</td>\n",
       "      <td>CCC</td>\n",
       "      <td>11749.0</td>\n",
       "    </tr>\n",
       "    <tr>\n",
       "      <th>...</th>\n",
       "      <td>...</td>\n",
       "      <td>...</td>\n",
       "      <td>...</td>\n",
       "      <td>...</td>\n",
       "      <td>...</td>\n",
       "      <td>...</td>\n",
       "      <td>...</td>\n",
       "      <td>...</td>\n",
       "      <td>...</td>\n",
       "      <td>...</td>\n",
       "    </tr>\n",
       "    <tr>\n",
       "      <th>8040</th>\n",
       "      <td>8041</td>\n",
       "      <td>A</td>\n",
       "      <td>TAA</td>\n",
       "      <td>1</td>\n",
       "      <td>CDS</td>\n",
       "      <td>COX2</td>\n",
       "      <td>456</td>\n",
       "      <td>3</td>\n",
       "      <td>ATA</td>\n",
       "      <td>4486.0</td>\n",
       "    </tr>\n",
       "    <tr>\n",
       "      <th>8041</th>\n",
       "      <td>8042</td>\n",
       "      <td>A</td>\n",
       "      <td>AAT</td>\n",
       "      <td>1</td>\n",
       "      <td>CDS</td>\n",
       "      <td>COX2</td>\n",
       "      <td>457</td>\n",
       "      <td>1</td>\n",
       "      <td>ATA</td>\n",
       "      <td>4488.0</td>\n",
       "    </tr>\n",
       "    <tr>\n",
       "      <th>8042</th>\n",
       "      <td>8043</td>\n",
       "      <td>T</td>\n",
       "      <td>ATA</td>\n",
       "      <td>1</td>\n",
       "      <td>CDS</td>\n",
       "      <td>COX2</td>\n",
       "      <td>458</td>\n",
       "      <td>2</td>\n",
       "      <td>ATA</td>\n",
       "      <td>4490.0</td>\n",
       "    </tr>\n",
       "    <tr>\n",
       "      <th>8043</th>\n",
       "      <td>8044</td>\n",
       "      <td>A</td>\n",
       "      <td>TAA</td>\n",
       "      <td>1</td>\n",
       "      <td>CDS</td>\n",
       "      <td>COX2</td>\n",
       "      <td>459</td>\n",
       "      <td>3</td>\n",
       "      <td>ATA</td>\n",
       "      <td>4492.0</td>\n",
       "    </tr>\n",
       "    <tr>\n",
       "      <th>8044</th>\n",
       "      <td>8045</td>\n",
       "      <td>A</td>\n",
       "      <td>AAT</td>\n",
       "      <td>1</td>\n",
       "      <td>CDS</td>\n",
       "      <td>COX2</td>\n",
       "      <td>460</td>\n",
       "      <td>1</td>\n",
       "      <td>ATT</td>\n",
       "      <td>4494.0</td>\n",
       "    </tr>\n",
       "  </tbody>\n",
       "</table>\n",
       "<p>4000 rows × 10 columns</p>\n",
       "</div>"
      ],
      "text/plain": [
       "       Pos Nuc Context  Strand Type GeneName  PosInGene  PosInCodon Codon  \\\n",
       "3306  3307   A     CAT       1  CDS      ND1          1           1   ATA   \n",
       "3307  3308   T     ATA       1  CDS      ND1          2           2   ATA   \n",
       "3308  3309   A     TAC       1  CDS      ND1          3           3   ATA   \n",
       "3309  3310   C     ACC       1  CDS      ND1          4           1   CCC   \n",
       "3310  3311   C     CCC       1  CDS      ND1          5           2   CCC   \n",
       "...    ...  ..     ...     ...  ...      ...        ...         ...   ...   \n",
       "8040  8041   A     TAA       1  CDS     COX2        456           3   ATA   \n",
       "8041  8042   A     AAT       1  CDS     COX2        457           1   ATA   \n",
       "8042  8043   T     ATA       1  CDS     COX2        458           2   ATA   \n",
       "8043  8044   A     TAA       1  CDS     COX2        459           3   ATA   \n",
       "8044  8045   A     AAT       1  CDS     COX2        460           1   ATT   \n",
       "\n",
       "         TBSS  \n",
       "3306  11741.0  \n",
       "3307  11743.0  \n",
       "3308  11745.0  \n",
       "3309  11747.0  \n",
       "3310  11749.0  \n",
       "...       ...  \n",
       "8040   4486.0  \n",
       "8041   4488.0  \n",
       "8042   4490.0  \n",
       "8043   4492.0  \n",
       "8044   4494.0  \n",
       "\n",
       "[4000 rows x 10 columns]"
      ]
     },
     "execution_count": 3,
     "metadata": {},
     "output_type": "execute_result"
    }
   ],
   "source": [
    "# Read reference genbank\n",
    "path_to_ref = \"../data/processed/ref_annot.csv\"\n",
    "Ref = pd.read_csv(path_to_ref)\n",
    "prot_ref = Ref[(Ref.Type == \"CDS\") & (Ref.Strand == 1)]\n",
    "\n",
    "print(prot_ref.shape)\n",
    "prot_ref.head(4000)"
   ]
  },
  {
   "cell_type": "code",
   "execution_count": 23,
   "metadata": {},
   "outputs": [],
   "source": [
    "exp_muts12 = dict()\n",
    "exp_muts192 = dict()\n",
    "for gene, gtable in prot_ref[prot_ref.Codon.str.len() == 3].groupby(\"GeneName\"):\n",
    "    assert np.all(gtable.PosInGene == np.arange(1, gtable.shape[0] + 1))\n",
    "    seq = gtable.Nuc.values\n",
    "    gene_exp_muts12, gene_exp_muts192 = coda.collect_exp_mut_freqs(seq, labels=[\"syn\"])\n",
    "    for lbl in gene_exp_muts12:\n",
    "        if lbl not in exp_muts12:\n",
    "            exp_muts12[lbl] = defaultdict(int)\n",
    "            exp_muts192[lbl] = defaultdict(int)\n",
    "\n",
    "        for sbs, _cnt in gene_exp_muts12[lbl].items():\n",
    "            exp_muts12[lbl][sbs] += _cnt\n",
    "        for sbs, _cnt in gene_exp_muts192[lbl].items():\n",
    "            exp_muts192[lbl][sbs] += _cnt\n",
    "\n",
    "        # if lbl == \"syn\":\n",
    "        #     exp_muts12[lbl + \"_\" + gene] = gene_exp_muts12[lbl]\n",
    "        #     exp_muts192[lbl + \"_\" + gene] = gene_exp_muts192[lbl]\n",
    "\n",
    "for lbl in [\"D-loop\", \"rRNA\", \"tRNA\"]:\n",
    "    f1, f2 = coda.collect_exp_mut_freqs(Ref[Ref.Type == lbl][\"Nuc\"].values, [\"all\"])\n",
    "    exp_muts12[lbl], exp_muts192[lbl] = f1[\"all\"], f2[\"all\"]\n",
    "\n",
    "lbl = \"ExDloop\"\n",
    "f1, f2 = coda.collect_exp_mut_freqs(Ref[(~Ref.Type.isin([\"D-loop\", \"misc_feature\"]))][\"Nuc\"].values, [\"all\"])\n",
    "exp_muts12[lbl], exp_muts192[lbl] = f1[\"all\"], f2[\"all\"]"
   ]
  },
  {
   "cell_type": "code",
   "execution_count": 24,
   "metadata": {},
   "outputs": [
    {
     "data": {
      "text/html": [
       "<div>\n",
       "<style scoped>\n",
       "    .dataframe tbody tr th:only-of-type {\n",
       "        vertical-align: middle;\n",
       "    }\n",
       "\n",
       "    .dataframe tbody tr th {\n",
       "        vertical-align: top;\n",
       "    }\n",
       "\n",
       "    .dataframe thead th {\n",
       "        text-align: right;\n",
       "    }\n",
       "</style>\n",
       "<table border=\"1\" class=\"dataframe\">\n",
       "  <thead>\n",
       "    <tr style=\"text-align: right;\">\n",
       "      <th></th>\n",
       "      <th>syn</th>\n",
       "      <th>D-loop</th>\n",
       "      <th>rRNA</th>\n",
       "      <th>tRNA</th>\n",
       "      <th>ExDloop</th>\n",
       "    </tr>\n",
       "  </thead>\n",
       "  <tbody>\n",
       "    <tr>\n",
       "      <th>A[A&gt;C]A</th>\n",
       "      <td>NaN</td>\n",
       "      <td>30</td>\n",
       "      <td>113</td>\n",
       "      <td>78.0</td>\n",
       "      <td>494</td>\n",
       "    </tr>\n",
       "    <tr>\n",
       "      <th>A[A&gt;C]C</th>\n",
       "      <td>NaN</td>\n",
       "      <td>32</td>\n",
       "      <td>84</td>\n",
       "      <td>51.0</td>\n",
       "      <td>463</td>\n",
       "    </tr>\n",
       "    <tr>\n",
       "      <th>A[A&gt;C]G</th>\n",
       "      <td>NaN</td>\n",
       "      <td>13</td>\n",
       "      <td>69</td>\n",
       "      <td>40.0</td>\n",
       "      <td>196</td>\n",
       "    </tr>\n",
       "    <tr>\n",
       "      <th>A[A&gt;C]T</th>\n",
       "      <td>NaN</td>\n",
       "      <td>21</td>\n",
       "      <td>50</td>\n",
       "      <td>41.0</td>\n",
       "      <td>355</td>\n",
       "    </tr>\n",
       "    <tr>\n",
       "      <th>A[A&gt;G]A</th>\n",
       "      <td>78.0</td>\n",
       "      <td>30</td>\n",
       "      <td>113</td>\n",
       "      <td>78.0</td>\n",
       "      <td>494</td>\n",
       "    </tr>\n",
       "    <tr>\n",
       "      <th>...</th>\n",
       "      <td>...</td>\n",
       "      <td>...</td>\n",
       "      <td>...</td>\n",
       "      <td>...</td>\n",
       "      <td>...</td>\n",
       "    </tr>\n",
       "    <tr>\n",
       "      <th>T[T&gt;C]T</th>\n",
       "      <td>47.0</td>\n",
       "      <td>20</td>\n",
       "      <td>32</td>\n",
       "      <td>44.0</td>\n",
       "      <td>231</td>\n",
       "    </tr>\n",
       "    <tr>\n",
       "      <th>T[T&gt;G]A</th>\n",
       "      <td>34.0</td>\n",
       "      <td>18</td>\n",
       "      <td>56</td>\n",
       "      <td>52.0</td>\n",
       "      <td>311</td>\n",
       "    </tr>\n",
       "    <tr>\n",
       "      <th>T[T&gt;G]C</th>\n",
       "      <td>28.0</td>\n",
       "      <td>15</td>\n",
       "      <td>26</td>\n",
       "      <td>27.0</td>\n",
       "      <td>293</td>\n",
       "    </tr>\n",
       "    <tr>\n",
       "      <th>T[T&gt;G]G</th>\n",
       "      <td>11.0</td>\n",
       "      <td>12</td>\n",
       "      <td>22</td>\n",
       "      <td>14.0</td>\n",
       "      <td>104</td>\n",
       "    </tr>\n",
       "    <tr>\n",
       "      <th>T[T&gt;G]T</th>\n",
       "      <td>13.0</td>\n",
       "      <td>20</td>\n",
       "      <td>32</td>\n",
       "      <td>44.0</td>\n",
       "      <td>231</td>\n",
       "    </tr>\n",
       "  </tbody>\n",
       "</table>\n",
       "<p>192 rows × 5 columns</p>\n",
       "</div>"
      ],
      "text/plain": [
       "          syn  D-loop  rRNA  tRNA  ExDloop\n",
       "A[A>C]A   NaN      30   113  78.0      494\n",
       "A[A>C]C   NaN      32    84  51.0      463\n",
       "A[A>C]G   NaN      13    69  40.0      196\n",
       "A[A>C]T   NaN      21    50  41.0      355\n",
       "A[A>G]A  78.0      30   113  78.0      494\n",
       "...       ...     ...   ...   ...      ...\n",
       "T[T>C]T  47.0      20    32  44.0      231\n",
       "T[T>G]A  34.0      18    56  52.0      311\n",
       "T[T>G]C  28.0      15    26  27.0      293\n",
       "T[T>G]G  11.0      12    22  14.0      104\n",
       "T[T>G]T  13.0      20    32  44.0      231\n",
       "\n",
       "[192 rows x 5 columns]"
      ]
     },
     "execution_count": 24,
     "metadata": {},
     "output_type": "execute_result"
    }
   ],
   "source": [
    "pd.DataFrame(exp_muts192).sort_index()"
   ]
  },
  {
   "cell_type": "markdown",
   "metadata": {},
   "source": [
    "## Calculate MutSpec"
   ]
  },
  {
   "cell_type": "markdown",
   "metadata": {},
   "source": [
    "### Full tree"
   ]
  },
  {
   "cell_type": "code",
   "execution_count": 7,
   "metadata": {},
   "outputs": [],
   "source": [
    "muts_filtered[\"Label\"] = 1\n",
    "ms192 = calculate_mutspec(muts_filtered, exp_muts192[\"syn\"], use_context=True)\n",
    "ms12 = calculate_mutspec(muts_filtered, exp_muts12[\"syn\"], use_context=False)\n",
    "\n",
    "# Reverse complement of Mut (to heavy strand) is unneded\n",
    "# ms192[\"Mut\"] = ms192.Mut.apply(rev_comp)\n",
    "# ms12[\"Mut\"] = ms12.Mut.str.translate(translator)\n",
    "ms192.sort_values(\"Mut\", inplace=True)\n",
    "ms12.sort_values(\"Mut\", inplace=True)\n",
    "\n",
    "ms12.to_csv(\"../data/mutspecs_human_global_tree/human_global_tree_mutspec12syn.csv\", index=None)\n",
    "ms192.to_csv(\"../data/mutspecs_human_global_tree/human_global_tree_mutspec192syn.csv\", index=None)"
   ]
  },
  {
   "cell_type": "code",
   "execution_count": 8,
   "metadata": {},
   "outputs": [],
   "source": [
    "ms12 = pd.read_csv(\"../data/mutspecs_human_global_tree/human_global_tree_mutspec12syn.csv\")\n",
    "ms192 = pd.read_csv(\"../data/mutspecs_human_global_tree/human_global_tree_mutspec192syn.csv\")"
   ]
  },
  {
   "cell_type": "code",
   "execution_count": 13,
   "metadata": {},
   "outputs": [
    {
     "data": {
      "image/png": "[encoded data removed]",
      "text/plain": [
       "<Figure size 432x288 with 1 Axes>"
      ]
     },
     "metadata": {
      "needs_background": "light"
     },
     "output_type": "display_data"
    },
    {
     "data": {
      "image/png": "[encoded data removed]",
      "text/plain": [
       "<Figure size 1728x576 with 1 Axes>"
      ]
     },
     "metadata": {
      "needs_background": "light"
     },
     "output_type": "display_data"
    }
   ],
   "source": [
    "plot_mutspec12(ms12, title=\"GlobalHumanTree synonymous MutSpec\",   savepath=\"../data/mutspecs_human_global_tree/human_global_tree_mutspec12syn.pdf\")\n",
    "plot_mutspec192kk(ms192, title=\"GlobalHumanTree synonymous MutSpec\", filepath=\"../data/mutspecs_human_global_tree/human_global_tree_mutspec192syn.pdf\")"
   ]
  },
  {
   "cell_type": "markdown",
   "metadata": {},
   "source": [
    "### Only leaves"
   ]
  },
  {
   "cell_type": "code",
   "execution_count": 12,
   "metadata": {},
   "outputs": [
    {
     "data": {
      "image/png": "[encoded data removed]",
      "text/plain": [
       "<Figure size 432x288 with 1 Axes>"
      ]
     },
     "metadata": {
      "needs_background": "light"
     },
     "output_type": "display_data"
    },
    {
     "data": {
      "image/png": "[encoded data removed]",
      "text/plain": [
       "<Figure size 1728x576 with 1 Axes>"
      ]
     },
     "metadata": {
      "needs_background": "light"
     },
     "output_type": "display_data"
    }
   ],
   "source": [
    "ms192 = calculate_mutspec(muts_filtered[muts_filtered.is_leaf == 1], exp_muts192[\"syn\"], use_context=True)\n",
    "ms12 = calculate_mutspec(muts_filtered[muts_filtered.is_leaf == 1], exp_muts12[\"syn\"], use_context=False)\n",
    "\n",
    "# Reverse complement of Mut (to heavy strand)\n",
    "# ms192[\"Mut\"] = ms192.Mut.apply(rev_comp)\n",
    "# ms12[\"Mut\"] = ms12.Mut.str.translate(translator)\n",
    "ms192.sort_values(\"Mut\", inplace=True)\n",
    "ms12.sort_values(\"Mut\", inplace=True)\n",
    "\n",
    "ms12.to_csv( \"../data/mutspecs_human_global_tree/human_global_tree_mutspec12syn_leaves.csv\", index=None)\n",
    "ms192.to_csv(\"../data/mutspecs_human_global_tree/human_global_tree_mutspec192syn_leaves.csv\", index=None)\n",
    "\n",
    "plot_mutspec12(ms12,   title=\"GlobalHumanTree synonymous MutSpec on leaves\", savepath=\"../data/mutspecs_human_global_tree/human_global_tree_mutspec12syn_leaves.pdf\")\n",
    "plot_mutspec192kk(ms192, title=\"GlobalHumanTree synonymous MutSpec on leaves\", filepath=\"../data/mutspecs_human_global_tree/human_global_tree_mutspec192syn_leaves.pdf\")"
   ]
  },
  {
   "cell_type": "markdown",
   "metadata": {},
   "source": [
    "## TSSS\n",
    "\n",
    "Comparison of the 6-8 and 14-16 in GlobalTree (where differences are significant). This is where Bogdan’s confirmation is most needed. "
   ]
  },
  {
   "cell_type": "code",
   "execution_count": 4,
   "metadata": {},
   "outputs": [
    {
     "data": {
      "image/png": "[encoded data removed]",
      "text/plain": [
       "<Figure size 576x216 with 1 Axes>"
      ]
     },
     "metadata": {
      "needs_background": "light"
     },
     "output_type": "display_data"
    }
   ],
   "source": [
    "plt.figure(figsize=(8, 3))\n",
    "plt.plot(Ref.Pos, Ref.TBSS)\n",
    "for gn in prot_ref.GeneName.unique():\n",
    "    pmin = prot_ref[prot_ref.GeneName == gn].Pos.min()\n",
    "    pmax = prot_ref[prot_ref.GeneName == gn].Pos.max()\n",
    "    plt.plot([pmin, pmax], [0, 0], \"r.-\", linewidth=0.5)\n",
    "plt.ylabel(\"TSSS\")\n",
    "plt.xlabel(\"Pos\")\n",
    "plt.show()"
   ]
  },
  {
   "cell_type": "code",
   "execution_count": 5,
   "metadata": {},
   "outputs": [],
   "source": [
    "# prot_ref.groupby(\"GeneName\").Pos.apply(lambda x: {\"min\": x.min(), \"max\": x.max()}).sort_values()"
   ]
  },
  {
   "cell_type": "code",
   "execution_count": 6,
   "metadata": {},
   "outputs": [],
   "source": [
    "def get_exp_mut_freqs_syn(pos_min, pos_max, lbl=\"syn\"):\n",
    "    _pic_col_idx = list(prot_ref.columns).index(\"PosInCodon\")\n",
    "    cur_ref = prot_ref[(prot_ref.Pos >= pos_min) & (prot_ref.Pos <= pos_max)]\n",
    "\n",
    "    pic_first = cur_ref.iloc[0].PosInCodon\n",
    "    pic_last  = cur_ref.iloc[-1].PosInCodon\n",
    "    pos_min = cur_ref.Pos.min() - pic_first + 1\n",
    "    pos_max = cur_ref.Pos.max() + 3 - pic_last\n",
    "    print(f\"Adjusted potitions: {pos_min}, {pos_max}\")\n",
    "    cur_ref = prot_ref[(prot_ref.Pos >= pos_min) & (prot_ref.Pos <= pos_max)]\n",
    "    # return cur_ref\n",
    "    # assert cur_ref.iloc[0].PosInCodon == 1\n",
    "    # assert cur_ref.iloc[-1].PosInCodon == 3\n",
    "\n",
    "    exp_muts12, exp_muts192 = defaultdict(int), defaultdict(int)\n",
    "    for gn, df in cur_ref.groupby(\"GeneName\"):\n",
    "        seq = df.Nuc.values\n",
    "        gene_exp_muts12, gene_exp_muts192 = coda.collect_exp_mut_freqs(seq, labels=[lbl])\n",
    "\n",
    "        for sbs, _cnt in gene_exp_muts12[lbl].items():\n",
    "            exp_muts12[sbs] += _cnt\n",
    "        for sbs, _cnt in gene_exp_muts192[lbl].items():\n",
    "            exp_muts192[sbs] += _cnt\n",
    "    \n",
    "    return exp_muts12, exp_muts192"
   ]
  },
  {
   "cell_type": "markdown",
   "metadata": {},
   "source": [
    "### 6-8k"
   ]
  },
  {
   "cell_type": "code",
   "execution_count": 19,
   "metadata": {},
   "outputs": [
    {
     "name": "stdout",
     "output_type": "stream",
     "text": [
      "Adjusted potitions: 6000, 8002\n",
      "Number of mutations: 15378\n"
     ]
    },
    {
     "data": {
      "image/png": "[encoded data removed]",
      "text/plain": [
       "<Figure size 432x288 with 1 Axes>"
      ]
     },
     "metadata": {
      "needs_background": "light"
     },
     "output_type": "display_data"
    },
    {
     "data": {
      "image/png": "[encoded data removed]",
      "text/plain": [
       "<Figure size 1728x432 with 1 Axes>"
      ]
     },
     "metadata": {
      "needs_background": "light"
     },
     "output_type": "display_data"
    },
    {
     "data": {
      "image/png": "[encoded data removed]",
      "text/plain": [
       "<Figure size 1728x432 with 1 Axes>"
      ]
     },
     "metadata": {
      "needs_background": "light"
     },
     "output_type": "display_data"
    }
   ],
   "source": [
    "pmin, pmax = 6000, 8000\n",
    "\n",
    "exp_muts12, exp_muts192 = get_exp_mut_freqs_syn(pmin, pmax)\n",
    "# replace 'ref_pos' to \"position\"\n",
    "obs_muts = muts_filtered[(muts_filtered.ref_pos >= pmin) & (muts_filtered.ref_pos <= pmax) & (muts_filtered.is_leaf == 1)]\n",
    "print(\"Number of mutations:\", obs_muts.shape[0])\n",
    "ms12 = calculate_mutspec(obs_muts, exp_muts12)\n",
    "ms192 = calculate_mutspec(obs_muts, exp_muts192, use_context=True)\n",
    "\n",
    "ms12.to_csv(f\"../data/processed/GlobalHumanTree/mutspec12syn_leaves{pmin//1000}-{pmax//1000}k.csv\", index=None)\n",
    "ms192.to_csv(f\"../data/processed/GlobalHumanTree/mutspec192syn_leaves{pmin//1000}-{pmax//1000}k.csv\", index=None)\n",
    "\n",
    "plot_mutspec12(ms12, title=f\"GlobalHumanTree synonymous MutSpec {pmin//1000}-{pmax//1000}k\", \n",
    "    savepath=f\"../figures/GlobalHumanTree/mutspec12syn_leaves{pmin//1000}-{pmax//1000}k.pdf\")\n",
    "plot_mutspec192kk(ms192, title=f\"GlobalHumanTree synonymous MutSpec {pmin//1000}-{pmax//1000}k\", \n",
    "    filepath=f\"../figures/GlobalHumanTree/mutspec192syn_leaves{pmin//1000}-{pmax//1000}k.pdf\")\n",
    "\n",
    "ms192[\"RawMutSpec\"] = (ms192[\"ObsFr\"] / ms192[\"ExpFr\"]).fillna(0).replace(np.inf, 0)\n",
    "ms192[\"MutSpec\"] = ms192[\"RawMutSpec\"] / ms192[\"RawMutSpec\"].sum()\n",
    "plot_mutspec192kk(ms192, title=f\"GlobalHumanTree synonymous MutSpec {pmin//1000}-{pmax//1000}k without unexpected\",\n",
    "    filepath=f\"../figures/GlobalHumanTree/mutspec192syn_leaves{pmin//1000}-{pmax//1000}k_without_unexpected.pdf\")"
   ]
  },
  {
   "cell_type": "markdown",
   "metadata": {},
   "source": [
    "### 14-16k"
   ]
  },
  {
   "cell_type": "code",
   "execution_count": 20,
   "metadata": {},
   "outputs": [
    {
     "name": "stdout",
     "output_type": "stream",
     "text": [
      "Adjusted potitions: 13999, 15889\n",
      "Number of mutations: 8015\n"
     ]
    },
    {
     "data": {
      "image/png": "[encoded data removed]",
      "text/plain": [
       "<Figure size 432x288 with 1 Axes>"
      ]
     },
     "metadata": {
      "needs_background": "light"
     },
     "output_type": "display_data"
    },
    {
     "data": {
      "image/png": "[encoded data removed]",
      "text/plain": [
       "<Figure size 1728x432 with 1 Axes>"
      ]
     },
     "metadata": {
      "needs_background": "light"
     },
     "output_type": "display_data"
    },
    {
     "data": {
      "image/png": "[encoded data removed]",
      "text/plain": [
       "<Figure size 1728x432 with 1 Axes>"
      ]
     },
     "metadata": {
      "needs_background": "light"
     },
     "output_type": "display_data"
    }
   ],
   "source": [
    "pmin, pmax = 14000, 16000\n",
    "\n",
    "exp_muts12, exp_muts192 = get_exp_mut_freqs_syn(pmin, pmax)\n",
    "# replace 'ref_pos' to \"position\"\n",
    "obs_muts = muts_filtered[(muts_filtered.ref_pos >= pmin) & (muts_filtered.ref_pos <= pmax) & (muts_filtered.is_leaf == 1)]\n",
    "print(\"Number of mutations:\", obs_muts.shape[0])\n",
    "ms12 = calculate_mutspec(obs_muts, exp_muts12)\n",
    "ms192 = calculate_mutspec(obs_muts, exp_muts192, use_context=True)\n",
    "\n",
    "ms12.to_csv(f\"../data/processed/GlobalHumanTree/mutspec12syn_leaves{pmin//1000}-{pmax//1000}k.csv\", index=None)\n",
    "ms192.to_csv(f\"../data/processed/GlobalHumanTree/mutspec192syn_leaves{pmin//1000}-{pmax//1000}k.csv\", index=None)\n",
    "\n",
    "plot_mutspec12(ms12, title=f\"GlobalHumanTree synonymous MutSpec {pmin//1000}-{pmax//1000}k\", \n",
    "    savepath=f\"../figures/GlobalHumanTree/mutspec12syn_leaves{pmin//1000}-{pmax//1000}k.pdf\")\n",
    "plot_mutspec192kk(ms192, title=f\"GlobalHumanTree synonymous MutSpec {pmin//1000}-{pmax//1000}k\", \n",
    "    filepath=f\"../figures/GlobalHumanTree/mutspec192syn_leaves{pmin//1000}-{pmax//1000}k.pdf\")\n",
    "\n",
    "ms192[\"RawMutSpec\"] = (ms192[\"ObsFr\"] / ms192[\"ExpFr\"]).fillna(0).replace(np.inf, 0)\n",
    "ms192[\"MutSpec\"] = ms192[\"RawMutSpec\"] / ms192[\"RawMutSpec\"].sum()\n",
    "plot_mutspec192kk(ms192, title=f\"GlobalHumanTree synonymous MutSpec {pmin//1000}-{pmax//1000}k without unexpected\",\n",
    "    filepath=f\"../figures/GlobalHumanTree/mutspec192syn_leaves{pmin//1000}-{pmax//1000}k_without_unexpected.pdf\")"
   ]
  },
  {
   "cell_type": "code",
   "execution_count": 15,
   "metadata": {},
   "outputs": [],
   "source": []
  },
  {
   "cell_type": "code",
   "execution_count": null,
   "metadata": {},
   "outputs": [],
   "source": []
  },
  {
   "cell_type": "code",
   "execution_count": null,
   "metadata": {},
   "outputs": [],
   "source": []
  },
  {
   "cell_type": "code",
   "execution_count": null,
   "metadata": {},
   "outputs": [],
   "source": []
  }
 ],
 "metadata": {
  "kernelspec": {
   "display_name": "Python 3.9.5 ('env_bio')",
   "language": "python",
   "name": "python3"
  },
  "language_info": {
   "codemirror_mode": {
    "name": "ipython",
    "version": 3
   },
   "file_extension": ".py",
   "mimetype": "text/x-python",
   "name": "python",
   "nbconvert_exporter": "python",
   "pygments_lexer": "ipython3",
   "version": "3.9.5"
  },
  "orig_nbformat": 4,
  "vscode": {
   "interpreter": {
    "hash": "c737589ac25c2b5207a58295544dae93bde342e9f173b68ed1d9625ade55517f"
   }
  }
 },
 "nbformat": 4,
 "nbformat_minor": 2
}
