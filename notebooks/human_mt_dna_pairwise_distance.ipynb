{
 "cells": [
  {
   "cell_type": "code",
   "execution_count": 2,
   "metadata": {},
   "outputs": [],
   "source": [
    "import os\n",
    "import sys\n",
    "from collections import defaultdict\n",
    "from itertools import combinations\n",
    "from functools import reduce, partial\n",
    "import multiprocessing\n",
    "from multiprocessing import Pool\n",
    "\n",
    "import numpy as np\n",
    "import pandas as pd\n",
    "import matplotlib\n",
    "import matplotlib.pyplot as plt\n",
    "import seaborn as sns\n",
    "import tqdm\n",
    "import pymp\n",
    "\n",
    "import ete3\n",
    "from ete3 import PhyloTree\n",
    "from Bio import SeqIO\n",
    "\n",
    "import Levenshtein"
   ]
  },
  {
   "cell_type": "code",
   "execution_count": 12,
   "metadata": {},
   "outputs": [],
   "source": [
    "path_to_genbank = \"../data/external/human_mt_clean.gb\""
   ]
  },
  {
   "cell_type": "code",
   "execution_count": 13,
   "metadata": {},
   "outputs": [],
   "source": [
    "dloops = []\n",
    "npassed = nexdloop = 0\n",
    "for rec in SeqIO.parse(path_to_genbank, format=\"gb\"):\n",
    "    feature_dloop = [x for x in rec.features if x.type == \"D-loop\"]\n",
    "    if len(feature_dloop) == 1:\n",
    "        cur_dloop = str(feature_dloop[0].extract(rec.seq)).upper()\n",
    "        amb_share = 1 - sum([cur_dloop.count(x) for x in \"ACGT\"]) / len(cur_dloop)\n",
    "        if amb_share > 0.05:\n",
    "            npassed += 1\n",
    "            continue\n",
    "        dloops.append((rec.id, cur_dloop))\n",
    "    else:\n",
    "        # print(rec.id, feature_dloop)\n",
    "        nexdloop += 1\n"
   ]
  },
  {
   "cell_type": "code",
   "execution_count": 14,
   "metadata": {},
   "outputs": [
    {
     "data": {
      "text/plain": [
       "(55180, 22, 3554)"
      ]
     },
     "execution_count": 14,
     "metadata": {},
     "output_type": "execute_result"
    }
   ],
   "source": [
    "len(dloops), npassed, nexdloop"
   ]
  },
  {
   "cell_type": "code",
   "execution_count": 43,
   "metadata": {},
   "outputs": [
    {
     "data": {
      "text/plain": [
       "1821"
      ]
     },
     "execution_count": 43,
     "metadata": {},
     "output_type": "execute_result"
    }
   ],
   "source": [
    "dlens = [len(x[1]) for x in dloops if len(x[1]) < 1300 and len(x[1]) > 1100]\n",
    "# pd.Series(dlens).value_counts().sort_index()\n",
    "len(dloops) - len(dlens)"
   ]
  },
  {
   "cell_type": "code",
   "execution_count": 44,
   "metadata": {},
   "outputs": [
    {
     "data": {
      "image/png": "[encoded data removed]",
      "text/plain": [
       "<Figure size 432x288 with 1 Axes>"
      ]
     },
     "metadata": {
      "needs_background": "light"
     },
     "output_type": "display_data"
    }
   ],
   "source": [
    "plt.hist(dlens, 50);"
   ]
  },
  {
   "cell_type": "code",
   "execution_count": 45,
   "metadata": {},
   "outputs": [],
   "source": [
    "dloops_clean = [x for x in dloops if len(x[1]) < 1300 and len(x[1]) > 1100]"
   ]
  },
  {
   "cell_type": "code",
   "execution_count": 46,
   "metadata": {},
   "outputs": [
    {
     "data": {
      "text/plain": [
       "1423564761"
      ]
     },
     "execution_count": 46,
     "metadata": {},
     "output_type": "execute_result"
    }
   ],
   "source": [
    "x = len(dloops_clean)\n",
    "x * (x - 1) // 2"
   ]
  },
  {
   "cell_type": "code",
   "execution_count": 56,
   "metadata": {},
   "outputs": [
    {
     "ename": "",
     "evalue": "",
     "output_type": "error",
     "traceback": [
      "\u001b[1;31mThe Kernel crashed while executing code in the the current cell or a previous cell. Please review the code in the cell(s) to identify a possible cause of the failure. Click <a href='https://aka.ms/vscodeJupyterKernelCrash'>here</a> for more info. View Jupyter <a href='command:jupyter.viewOutput'>log</a> for further details."
     ]
    },
    {
     "ename": "",
     "evalue": "",
     "output_type": "error",
     "traceback": [
      "\u001b[1;31mCanceled future for execute_request message before replies were done"
     ]
    }
   ],
   "source": [
    "# parallel version\n",
    "n = len(dloops_clean)\n",
    "# n = 2000\n",
    "data = []\n",
    "\n",
    "\n",
    "def get_distance(x):\n",
    "    i, j = x\n",
    "    d = Levenshtein.distance(dloops_clean[i][1], dloops_clean[j][1])\n",
    "    return d\n",
    "\n",
    "\n",
    "def get_iterator():\n",
    "    for i in range(n):\n",
    "        for j in range(i + 1, n):\n",
    "            yield (i, j)\n",
    "\n",
    "\n",
    "with Pool(24) as p:\n",
    "    ds = p.map(get_distance, get_iterator())"
   ]
  },
  {
   "cell_type": "code",
   "execution_count": 37,
   "metadata": {},
   "outputs": [],
   "source": [
    "# # parallel version\n",
    "# n = len(dloops)\n",
    "# n = 1000\n",
    "# data = pymp.shared.list()\n",
    "# with pymp.Parallel(24) as p:\n",
    "#     for i in p.range(n):\n",
    "#         for j in range(i + 1, n):\n",
    "#             d = Levenshtein.distance(dloops[i][1], dloops[j][1])\n",
    "#             data.append(d)\n",
    "#             # data.append({\n",
    "#             #     \"id1\": dloops[i][0],\n",
    "#             #     \"id2\": dloops[j][0],\n",
    "#             #     \"dist\": d,\n",
    "#             # })"
   ]
  },
  {
   "cell_type": "code",
   "execution_count": 27,
   "metadata": {},
   "outputs": [],
   "source": [
    "dists = np.array(ds)\n",
    "np.save(\"../data/dloop_pairwise_dists.npy\", dists)"
   ]
  },
  {
   "cell_type": "code",
   "execution_count": null,
   "metadata": {},
   "outputs": [],
   "source": [
    "# # single thread version\n",
    "# data = []\n",
    "# for (id1, seq1), (id2, seq2) in tqdm.tqdm(combinations(dloops, 2), total=len(dloops) * len(dloops) // 2):\n",
    "#     d = Levenshtein.distance(seq1, seq2)\n",
    "#     data.append({\n",
    "#         \"id1\": id1,\n",
    "#         \"id2\": id2,\n",
    "#         \"dist\": d,\n",
    "#     })"
   ]
  },
  {
   "cell_type": "code",
   "execution_count": 29,
   "metadata": {},
   "outputs": [
    {
     "data": {
      "image/png": "[encoded data removed]",
      "text/plain": [
       "<Figure size 864x288 with 1 Axes>"
      ]
     },
     "metadata": {
      "needs_background": "light"
     },
     "output_type": "display_data"
    }
   ],
   "source": [
    "plt.figure(figsize=(12, 4))\n",
    "plt.hist(dists, 50)\n",
    "plt.title(f\"Pairwise D-loop distance, {len(dloops)} genomes\")\n",
    "plt.xlabel(\"Distance\")\n",
    "plt.ylabel(\"Count\")\n",
    "# plt.xscale(\"log\")\n",
    "plt.savefig(\"../data/dists.png\")\n",
    "plt.show()"
   ]
  },
  {
   "cell_type": "code",
   "execution_count": 30,
   "metadata": {},
   "outputs": [
    {
     "data": {
      "image/png": "[encoded data removed]",
      "text/plain": [
       "<Figure size 864x288 with 1 Axes>"
      ]
     },
     "metadata": {
      "needs_background": "light"
     },
     "output_type": "display_data"
    }
   ],
   "source": [
    "plt.figure(figsize=(12, 4))\n",
    "plt.hist(dists, 50, (0, 200))\n",
    "plt.title(f\"Pairwise D-loop distance, {len(dloops)} genomes\")\n",
    "plt.xlabel(\"Distance\")\n",
    "plt.ylabel(\"Count\")\n",
    "# plt.xscale(\"log\")\n",
    "plt.savefig(\"../data/dists200.png\")\n",
    "plt.show()"
   ]
  },
  {
   "cell_type": "code",
   "execution_count": 31,
   "metadata": {},
   "outputs": [
    {
     "data": {
      "text/plain": [
       "0.0006275054438930718"
      ]
     },
     "execution_count": 31,
     "metadata": {},
     "output_type": "execute_result"
    }
   ],
   "source": [
    "(dists == 0).sum() / dists.shape[0]"
   ]
  },
  {
   "cell_type": "code",
   "execution_count": null,
   "metadata": {},
   "outputs": [],
   "source": []
  }
 ],
 "metadata": {
  "kernelspec": {
   "display_name": "env_bio",
   "language": "python",
   "name": "python3"
  },
  "language_info": {
   "codemirror_mode": {
    "name": "ipython",
    "version": 3
   },
   "file_extension": ".py",
   "mimetype": "text/x-python",
   "name": "python",
   "nbconvert_exporter": "python",
   "pygments_lexer": "ipython3",
   "version": "3.9.5"
  },
  "orig_nbformat": 4,
  "vscode": {
   "interpreter": {
    "hash": "c737589ac25c2b5207a58295544dae93bde342e9f173b68ed1d9625ade55517f"
   }
  }
 },
 "nbformat": 4,
 "nbformat_minor": 2
}
