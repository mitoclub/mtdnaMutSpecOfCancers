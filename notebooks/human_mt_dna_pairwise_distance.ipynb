{
 "cells": [
  {
   "cell_type": "code",
   "execution_count": 60,
   "metadata": {},
   "outputs": [],
   "source": [
    "import os\n",
    "import sys\n",
    "from collections import defaultdict\n",
    "from itertools import combinations\n",
    "from functools import reduce, partial\n",
    "\n",
    "import numpy as np\n",
    "import pandas as pd\n",
    "import matplotlib\n",
    "import matplotlib.pyplot as plt\n",
    "import seaborn as sns\n",
    "import tqdm\n",
    "\n",
    "import ete3\n",
    "from ete3 import PhyloTree\n",
    "from Bio import SeqIO\n",
    "\n",
    "import Levenshtein"
   ]
  },
  {
   "cell_type": "code",
   "execution_count": 57,
   "metadata": {},
   "outputs": [],
   "source": [
    "path_to_genbank = \"../data/external/human_mt.gb\""
   ]
  },
  {
   "cell_type": "code",
   "execution_count": 58,
   "metadata": {},
   "outputs": [
    {
     "name": "stdout",
     "output_type": "stream",
     "text": [
      "[]\n"
     ]
    },
    {
     "name": "stderr",
     "output_type": "stream",
     "text": [
      "/home/mr/env_bio/lib/python3.10/site-packages/Bio/GenBank/Scanner.py:1218: BiopythonParserWarning: Premature end of file in sequence data\n",
      "  warnings.warn(\n",
      "/home/mr/env_bio/lib/python3.10/site-packages/Bio/GenBank/__init__.py:1380: BiopythonParserWarning: Expected sequence length 16568, found 13429 (MZ387218.1).\n",
      "  warnings.warn(\n"
     ]
    }
   ],
   "source": [
    "dloops = []\n",
    "for rec in SeqIO.parse(path_to_genbank, format=\"gb\"):\n",
    "    feature_dloop = [x for x in rec.features if x.type == \"D-loop\"]\n",
    "    if len(feature_dloop) == 1:\n",
    "        cur_dloop = str(feature_dloop[0].extract(rec.seq)).upper()\n",
    "        dloops.append((rec.id, cur_dloop))\n",
    "    else:\n",
    "        print(feature_dloop)\n"
   ]
  },
  {
   "cell_type": "code",
   "execution_count": 61,
   "metadata": {},
   "outputs": [
    {
     "name": "stderr",
     "output_type": "stream",
     "text": [
      "977901it [00:51, 19135.73it/s]\n"
     ]
    }
   ],
   "source": [
    "data = []\n",
    "for (id1, seq1), (id2, seq2) in tqdm.tqdm(combinations(dloops, 2)):\n",
    "    d = Levenshtein.distance(seq1, seq2)\n",
    "    data.append({\n",
    "        \"id1\": id1,\n",
    "        \"id2\": id2,\n",
    "        \"dist\": d,\n",
    "    })"
   ]
  },
  {
   "cell_type": "code",
   "execution_count": 62,
   "metadata": {},
   "outputs": [
    {
     "data": {
      "text/html": [
       "<div>\n",
       "<style scoped>\n",
       "    .dataframe tbody tr th:only-of-type {\n",
       "        vertical-align: middle;\n",
       "    }\n",
       "\n",
       "    .dataframe tbody tr th {\n",
       "        vertical-align: top;\n",
       "    }\n",
       "\n",
       "    .dataframe thead th {\n",
       "        text-align: right;\n",
       "    }\n",
       "</style>\n",
       "<table border=\"1\" class=\"dataframe\">\n",
       "  <thead>\n",
       "    <tr style=\"text-align: right;\">\n",
       "      <th></th>\n",
       "      <th>id1</th>\n",
       "      <th>id2</th>\n",
       "      <th>dist</th>\n",
       "    </tr>\n",
       "  </thead>\n",
       "  <tbody>\n",
       "    <tr>\n",
       "      <th>0</th>\n",
       "      <td>OP830489.1</td>\n",
       "      <td>OP818064.1</td>\n",
       "      <td>7</td>\n",
       "    </tr>\n",
       "    <tr>\n",
       "      <th>1</th>\n",
       "      <td>OP830489.1</td>\n",
       "      <td>OP820437.1</td>\n",
       "      <td>7</td>\n",
       "    </tr>\n",
       "    <tr>\n",
       "      <th>2</th>\n",
       "      <td>OP830489.1</td>\n",
       "      <td>OP642525.1</td>\n",
       "      <td>14</td>\n",
       "    </tr>\n",
       "    <tr>\n",
       "      <th>3</th>\n",
       "      <td>OP830489.1</td>\n",
       "      <td>OP868949.1</td>\n",
       "      <td>10</td>\n",
       "    </tr>\n",
       "    <tr>\n",
       "      <th>4</th>\n",
       "      <td>OP830489.1</td>\n",
       "      <td>OP877930.1</td>\n",
       "      <td>5</td>\n",
       "    </tr>\n",
       "    <tr>\n",
       "      <th>...</th>\n",
       "      <td>...</td>\n",
       "      <td>...</td>\n",
       "      <td>...</td>\n",
       "    </tr>\n",
       "    <tr>\n",
       "      <th>977896</th>\n",
       "      <td>MZ387221.1</td>\n",
       "      <td>MZ387219.1</td>\n",
       "      <td>15</td>\n",
       "    </tr>\n",
       "    <tr>\n",
       "      <th>977897</th>\n",
       "      <td>MZ387221.1</td>\n",
       "      <td>MZ387218.1</td>\n",
       "      <td>547</td>\n",
       "    </tr>\n",
       "    <tr>\n",
       "      <th>977898</th>\n",
       "      <td>MZ387220.1</td>\n",
       "      <td>MZ387219.1</td>\n",
       "      <td>11</td>\n",
       "    </tr>\n",
       "    <tr>\n",
       "      <th>977899</th>\n",
       "      <td>MZ387220.1</td>\n",
       "      <td>MZ387218.1</td>\n",
       "      <td>558</td>\n",
       "    </tr>\n",
       "    <tr>\n",
       "      <th>977900</th>\n",
       "      <td>MZ387219.1</td>\n",
       "      <td>MZ387218.1</td>\n",
       "      <td>554</td>\n",
       "    </tr>\n",
       "  </tbody>\n",
       "</table>\n",
       "<p>977901 rows × 3 columns</p>\n",
       "</div>"
      ],
      "text/plain": [
       "               id1         id2  dist\n",
       "0       OP830489.1  OP818064.1     7\n",
       "1       OP830489.1  OP820437.1     7\n",
       "2       OP830489.1  OP642525.1    14\n",
       "3       OP830489.1  OP868949.1    10\n",
       "4       OP830489.1  OP877930.1     5\n",
       "...            ...         ...   ...\n",
       "977896  MZ387221.1  MZ387219.1    15\n",
       "977897  MZ387221.1  MZ387218.1   547\n",
       "977898  MZ387220.1  MZ387219.1    11\n",
       "977899  MZ387220.1  MZ387218.1   558\n",
       "977900  MZ387219.1  MZ387218.1   554\n",
       "\n",
       "[977901 rows x 3 columns]"
      ]
     },
     "execution_count": 62,
     "metadata": {},
     "output_type": "execute_result"
    }
   ],
   "source": [
    "df = pd.DataFrame(data)\n",
    "df"
   ]
  },
  {
   "cell_type": "code",
   "execution_count": 80,
   "metadata": {},
   "outputs": [
    {
     "data": {
      "image/png": "[encoded data removed]",
      "text/plain": [
       "<Figure size 1200x400 with 1 Axes>"
      ]
     },
     "metadata": {},
     "output_type": "display_data"
    }
   ],
   "source": [
    "plt.figure(figsize=(12, 4))\n",
    "df[df.dist < 100].dist.hist(bins=50)\n",
    "# df.dist.hist(bins=50)\n",
    "plt.title(f\"Pairwise D-loop distance, {len(dloops)} genomes\")\n",
    "plt.xlabel(\"Distance\")\n",
    "plt.ylabel(\"Count\")\n",
    "# plt.xscale(\"log\")\n",
    "plt.show()"
   ]
  },
  {
   "cell_type": "code",
   "execution_count": 81,
   "metadata": {},
   "outputs": [
    {
     "data": {
      "text/html": [
       "<div>\n",
       "<style scoped>\n",
       "    .dataframe tbody tr th:only-of-type {\n",
       "        vertical-align: middle;\n",
       "    }\n",
       "\n",
       "    .dataframe tbody tr th {\n",
       "        vertical-align: top;\n",
       "    }\n",
       "\n",
       "    .dataframe thead th {\n",
       "        text-align: right;\n",
       "    }\n",
       "</style>\n",
       "<table border=\"1\" class=\"dataframe\">\n",
       "  <thead>\n",
       "    <tr style=\"text-align: right;\">\n",
       "      <th></th>\n",
       "      <th>id1</th>\n",
       "      <th>id2</th>\n",
       "      <th>dist</th>\n",
       "    </tr>\n",
       "  </thead>\n",
       "  <tbody>\n",
       "    <tr>\n",
       "      <th>435</th>\n",
       "      <td>OP830489.1</td>\n",
       "      <td>ON597814.1</td>\n",
       "      <td>0</td>\n",
       "    </tr>\n",
       "    <tr>\n",
       "      <th>437</th>\n",
       "      <td>OP830489.1</td>\n",
       "      <td>ON597812.1</td>\n",
       "      <td>0</td>\n",
       "    </tr>\n",
       "    <tr>\n",
       "      <th>438</th>\n",
       "      <td>OP830489.1</td>\n",
       "      <td>ON597811.1</td>\n",
       "      <td>0</td>\n",
       "    </tr>\n",
       "    <tr>\n",
       "      <th>439</th>\n",
       "      <td>OP830489.1</td>\n",
       "      <td>ON597810.1</td>\n",
       "      <td>0</td>\n",
       "    </tr>\n",
       "    <tr>\n",
       "      <th>441</th>\n",
       "      <td>OP830489.1</td>\n",
       "      <td>ON597808.1</td>\n",
       "      <td>0</td>\n",
       "    </tr>\n",
       "    <tr>\n",
       "      <th>...</th>\n",
       "      <td>...</td>\n",
       "      <td>...</td>\n",
       "      <td>...</td>\n",
       "    </tr>\n",
       "    <tr>\n",
       "      <th>975207</th>\n",
       "      <td>MZ387291.1</td>\n",
       "      <td>MZ387283.1</td>\n",
       "      <td>0</td>\n",
       "    </tr>\n",
       "    <tr>\n",
       "      <th>975214</th>\n",
       "      <td>MZ387291.1</td>\n",
       "      <td>MZ387276.1</td>\n",
       "      <td>0</td>\n",
       "    </tr>\n",
       "    <tr>\n",
       "      <th>975282</th>\n",
       "      <td>MZ387290.1</td>\n",
       "      <td>MZ387280.1</td>\n",
       "      <td>0</td>\n",
       "    </tr>\n",
       "    <tr>\n",
       "      <th>975419</th>\n",
       "      <td>MZ387288.1</td>\n",
       "      <td>MZ387284.1</td>\n",
       "      <td>0</td>\n",
       "    </tr>\n",
       "    <tr>\n",
       "      <th>975762</th>\n",
       "      <td>MZ387283.1</td>\n",
       "      <td>MZ387276.1</td>\n",
       "      <td>0</td>\n",
       "    </tr>\n",
       "  </tbody>\n",
       "</table>\n",
       "<p>10751 rows × 3 columns</p>\n",
       "</div>"
      ],
      "text/plain": [
       "               id1         id2  dist\n",
       "435     OP830489.1  ON597814.1     0\n",
       "437     OP830489.1  ON597812.1     0\n",
       "438     OP830489.1  ON597811.1     0\n",
       "439     OP830489.1  ON597810.1     0\n",
       "441     OP830489.1  ON597808.1     0\n",
       "...            ...         ...   ...\n",
       "975207  MZ387291.1  MZ387283.1     0\n",
       "975214  MZ387291.1  MZ387276.1     0\n",
       "975282  MZ387290.1  MZ387280.1     0\n",
       "975419  MZ387288.1  MZ387284.1     0\n",
       "975762  MZ387283.1  MZ387276.1     0\n",
       "\n",
       "[10751 rows x 3 columns]"
      ]
     },
     "execution_count": 81,
     "metadata": {},
     "output_type": "execute_result"
    }
   ],
   "source": [
    "df[df.dist == 0]"
   ]
  },
  {
   "cell_type": "code",
   "execution_count": 87,
   "metadata": {},
   "outputs": [
    {
     "data": {
      "text/plain": [
       "0.01099395542084526"
      ]
     },
     "execution_count": 87,
     "metadata": {},
     "output_type": "execute_result"
    }
   ],
   "source": [
    "df[df.dist == 0].shape[0] / df.shape[0]"
   ]
  }
 ],
 "metadata": {
  "kernelspec": {
   "display_name": "env_bio",
   "language": "python",
   "name": "python3"
  },
  "language_info": {
   "codemirror_mode": {
    "name": "ipython",
    "version": 3
   },
   "file_extension": ".py",
   "mimetype": "text/x-python",
   "name": "python",
   "nbconvert_exporter": "python",
   "pygments_lexer": "ipython3",
   "version": "3.10.4"
  },
  "orig_nbformat": 4,
  "vscode": {
   "interpreter": {
    "hash": "ebc56c2dd4701fc443c9066466fa97d9c4766fa5c2b999f77eab1ae4696a8d53"
   }
  }
 },
 "nbformat": 4,
 "nbformat_minor": 2
}
