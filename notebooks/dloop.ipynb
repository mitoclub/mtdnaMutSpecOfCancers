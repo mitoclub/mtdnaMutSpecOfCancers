{
 "cells": [
  {
   "cell_type": "code",
   "execution_count": 70,
   "metadata": {},
   "outputs": [],
   "source": [
    "import os\n",
    "import sys\n",
    "from collections import defaultdict\n",
    "from functools import reduce, partial\n",
    "\n",
    "import numpy as np\n",
    "import pandas as pd\n",
    "import matplotlib\n",
    "import matplotlib.pyplot as plt\n",
    "import seaborn as sns\n",
    "from Bio import SeqIO"
   ]
  },
  {
   "cell_type": "code",
   "execution_count": 142,
   "metadata": {},
   "outputs": [],
   "source": [
    "obs_muts = [\"195C\", \"263G\", \"315.1C\", \"499A\", \"16179T\", \"16356C\", \"16519C\"]\n",
    "dloop_positions = list(range(1, 577)) + list(range(16024, 16570))"
   ]
  },
  {
   "cell_type": "code",
   "execution_count": 74,
   "metadata": {},
   "outputs": [
    {
     "data": {
      "text/plain": [
       "16569"
      ]
     },
     "execution_count": 74,
     "metadata": {},
     "output_type": "execute_result"
    }
   ],
   "source": [
    "refseq = str(next(SeqIO.parse(\"../../mtdnaMutSpecOfCancers/data/external/NC_012920.1.gb\", format=\"gb\")).seq)\n",
    "len(refseq)"
   ]
  },
  {
   "cell_type": "code",
   "execution_count": 119,
   "metadata": {},
   "outputs": [
    {
     "data": {
      "text/plain": [
       "(55878, 10)"
      ]
     },
     "execution_count": 119,
     "metadata": {},
     "output_type": "execute_result"
    }
   ],
   "source": [
    "rdf = pd.concat([pd.read_csv(f\"../data/dloop/fg/hapl{i}.tsv\", sep=\"\\t\") for i in [1,2,3,4,5,6,7]])\n",
    "rdf.shape"
   ]
  },
  {
   "cell_type": "code",
   "execution_count": 120,
   "metadata": {},
   "outputs": [
    {
     "data": {
      "text/plain": [
       "{'SampleID': 'AP023485.1',\n",
       " 'Haplogroup': 'D4b1b1a',\n",
       " 'Rank': 1,\n",
       " 'Quality': 0.99,\n",
       " 'Range': '1-16569',\n",
       " 'Not_Found_Polys': nan,\n",
       " 'Found_Polys': '73G 263G 431T 489C 750G 1438G 2706G 3010A 4769G 4859C 4883T 5178A 6410T 6689T 7028T 8020A 8414T 8701G 8860G 9540C 10084C 10181T 10398G 10400T 10873C 11719A 12705T 14668T 14766T 14783C 15043A 15301A 15326G 15440C 15951G 16223T 16287T 16319A 16362C 16399G',\n",
       " 'Remaining_Polys': '309.1C (hotspot) 315.1C (hotspot) 523d (hotspot) 524d (hotspot) 3107d (hotspot) 4025T (localPrivateMutation)',\n",
       " 'AAC_In_Remainings': '4025T [T240M| Codon 2 | ND1 ]',\n",
       " 'Input_Sample': '73G 263G 309.1C 315.1C 431T 489C 523d 524d 750G 1438G 2706G 3010A 3107d 4025T 4769G 4859C 4883T 5178A 6410T 6689T 7028T 8020A 8414T 8701G 8860G 9540C 10084C 10181T 10398G 10400T 10873C 11719A 12705T 14668T 14766T 14783C 15043A 15301A 15326G 15440C 15951G 16223T 16287T 16319A 16362C 16399G'}"
      ]
     },
     "execution_count": 120,
     "metadata": {},
     "output_type": "execute_result"
    }
   ],
   "source": [
    "rdf.iloc[0].to_dict()"
   ]
  },
  {
   "cell_type": "code",
   "execution_count": 121,
   "metadata": {},
   "outputs": [],
   "source": [
    "rdf[\"Input_Sample\"] = rdf.Input_Sample.str.split()\n",
    "df = rdf[['SampleID', 'Haplogroup', 'Quality', 'Range', 'Input_Sample']].explode(\"Input_Sample\").dropna()\n",
    "df[\"Pos\"] = df.Input_Sample.str.extract(\"(\\d+).+\").astype(np.int32)"
   ]
  },
  {
   "cell_type": "code",
   "execution_count": 122,
   "metadata": {},
   "outputs": [
    {
     "data": {
      "text/html": [
       "<div>\n",
       "<style scoped>\n",
       "    .dataframe tbody tr th:only-of-type {\n",
       "        vertical-align: middle;\n",
       "    }\n",
       "\n",
       "    .dataframe tbody tr th {\n",
       "        vertical-align: top;\n",
       "    }\n",
       "\n",
       "    .dataframe thead th {\n",
       "        text-align: right;\n",
       "    }\n",
       "</style>\n",
       "<table border=\"1\" class=\"dataframe\">\n",
       "  <thead>\n",
       "    <tr style=\"text-align: right;\">\n",
       "      <th></th>\n",
       "      <th>SampleID</th>\n",
       "      <th>Haplogroup</th>\n",
       "      <th>Quality</th>\n",
       "      <th>Range</th>\n",
       "      <th>Input_Sample</th>\n",
       "      <th>Pos</th>\n",
       "    </tr>\n",
       "  </thead>\n",
       "  <tbody>\n",
       "    <tr>\n",
       "      <th>0</th>\n",
       "      <td>AP023485.1</td>\n",
       "      <td>D4b1b1a</td>\n",
       "      <td>0.99</td>\n",
       "      <td>1-16569</td>\n",
       "      <td>73G</td>\n",
       "      <td>73</td>\n",
       "    </tr>\n",
       "    <tr>\n",
       "      <th>0</th>\n",
       "      <td>AP023485.1</td>\n",
       "      <td>D4b1b1a</td>\n",
       "      <td>0.99</td>\n",
       "      <td>1-16569</td>\n",
       "      <td>263G</td>\n",
       "      <td>263</td>\n",
       "    </tr>\n",
       "    <tr>\n",
       "      <th>0</th>\n",
       "      <td>AP023485.1</td>\n",
       "      <td>D4b1b1a</td>\n",
       "      <td>0.99</td>\n",
       "      <td>1-16569</td>\n",
       "      <td>309.1C</td>\n",
       "      <td>309</td>\n",
       "    </tr>\n",
       "    <tr>\n",
       "      <th>0</th>\n",
       "      <td>AP023485.1</td>\n",
       "      <td>D4b1b1a</td>\n",
       "      <td>0.99</td>\n",
       "      <td>1-16569</td>\n",
       "      <td>315.1C</td>\n",
       "      <td>315</td>\n",
       "    </tr>\n",
       "    <tr>\n",
       "      <th>0</th>\n",
       "      <td>AP023485.1</td>\n",
       "      <td>D4b1b1a</td>\n",
       "      <td>0.99</td>\n",
       "      <td>1-16569</td>\n",
       "      <td>431T</td>\n",
       "      <td>431</td>\n",
       "    </tr>\n",
       "    <tr>\n",
       "      <th>...</th>\n",
       "      <td>...</td>\n",
       "      <td>...</td>\n",
       "      <td>...</td>\n",
       "      <td>...</td>\n",
       "      <td>...</td>\n",
       "      <td>...</td>\n",
       "    </tr>\n",
       "    <tr>\n",
       "      <th>2535</th>\n",
       "      <td>KX557487.1</td>\n",
       "      <td>H35</td>\n",
       "      <td>1.00</td>\n",
       "      <td>1-16569</td>\n",
       "      <td>4769G</td>\n",
       "      <td>4769</td>\n",
       "    </tr>\n",
       "    <tr>\n",
       "      <th>2535</th>\n",
       "      <td>KX557487.1</td>\n",
       "      <td>H35</td>\n",
       "      <td>1.00</td>\n",
       "      <td>1-16569</td>\n",
       "      <td>7585.1T</td>\n",
       "      <td>7585</td>\n",
       "    </tr>\n",
       "    <tr>\n",
       "      <th>2535</th>\n",
       "      <td>KX557487.1</td>\n",
       "      <td>H35</td>\n",
       "      <td>1.00</td>\n",
       "      <td>1-16569</td>\n",
       "      <td>8860G</td>\n",
       "      <td>8860</td>\n",
       "    </tr>\n",
       "    <tr>\n",
       "      <th>2535</th>\n",
       "      <td>KX557487.1</td>\n",
       "      <td>H35</td>\n",
       "      <td>1.00</td>\n",
       "      <td>1-16569</td>\n",
       "      <td>15326G</td>\n",
       "      <td>15326</td>\n",
       "    </tr>\n",
       "    <tr>\n",
       "      <th>2535</th>\n",
       "      <td>KX557487.1</td>\n",
       "      <td>H35</td>\n",
       "      <td>1.00</td>\n",
       "      <td>1-16569</td>\n",
       "      <td>16519C</td>\n",
       "      <td>16519</td>\n",
       "    </tr>\n",
       "  </tbody>\n",
       "</table>\n",
       "<p>2007047 rows × 6 columns</p>\n",
       "</div>"
      ],
      "text/plain": [
       "        SampleID Haplogroup  Quality    Range Input_Sample    Pos\n",
       "0     AP023485.1    D4b1b1a     0.99  1-16569          73G     73\n",
       "0     AP023485.1    D4b1b1a     0.99  1-16569         263G    263\n",
       "0     AP023485.1    D4b1b1a     0.99  1-16569       309.1C    309\n",
       "0     AP023485.1    D4b1b1a     0.99  1-16569       315.1C    315\n",
       "0     AP023485.1    D4b1b1a     0.99  1-16569         431T    431\n",
       "...          ...        ...      ...      ...          ...    ...\n",
       "2535  KX557487.1        H35     1.00  1-16569        4769G   4769\n",
       "2535  KX557487.1        H35     1.00  1-16569      7585.1T   7585\n",
       "2535  KX557487.1        H35     1.00  1-16569        8860G   8860\n",
       "2535  KX557487.1        H35     1.00  1-16569       15326G  15326\n",
       "2535  KX557487.1        H35     1.00  1-16569       16519C  16519\n",
       "\n",
       "[2007047 rows x 6 columns]"
      ]
     },
     "execution_count": 122,
     "metadata": {},
     "output_type": "execute_result"
    }
   ],
   "source": [
    "df"
   ]
  },
  {
   "cell_type": "code",
   "execution_count": 123,
   "metadata": {},
   "outputs": [
    {
     "data": {
      "text/plain": [
       "524d         13475\n",
       "524.1AC       1446\n",
       "524.1ACAC      458\n",
       "524G            48\n",
       "524.1NN         19\n",
       "524.1CA         11\n",
       "524T             8\n",
       "524.1A           8\n",
       "524A             5\n",
       "524.1CACA        2\n",
       "524.1ACCA        1\n",
       "524.1ACAS        1\n",
       "Name: Input_Sample, dtype: int64"
      ]
     },
     "execution_count": 123,
     "metadata": {},
     "output_type": "execute_result"
    }
   ],
   "source": [
    "df[df.Pos == 524].Input_Sample.value_counts()"
   ]
  },
  {
   "cell_type": "code",
   "execution_count": 124,
   "metadata": {},
   "outputs": [
    {
     "data": {
      "text/plain": [
       "'C'"
      ]
     },
     "execution_count": 124,
     "metadata": {},
     "output_type": "execute_result"
    }
   ],
   "source": [
    "refseq[524 - 1 +1]"
   ]
  },
  {
   "cell_type": "code",
   "execution_count": 146,
   "metadata": {},
   "outputs": [],
   "source": [
    "dloop_muts = df[df.Pos.isin(dloop_positions)].groupby(\"SampleID\").apply(lambda x: list(x.Input_Sample.values))"
   ]
  },
  {
   "cell_type": "code",
   "execution_count": 147,
   "metadata": {},
   "outputs": [
    {
     "data": {
      "text/plain": [
       "0"
      ]
     },
     "execution_count": 147,
     "metadata": {},
     "output_type": "execute_result"
    }
   ],
   "source": [
    "dloop_muts.apply(lambda x: x == obs_muts).sum()"
   ]
  },
  {
   "cell_type": "code",
   "execution_count": 127,
   "metadata": {},
   "outputs": [
    {
     "data": {
      "text/plain": [
       "1     6000\n",
       "2    21631\n",
       "3    20987\n",
       "4     5486\n",
       "5      354\n",
       "6      287\n",
       "7       51\n",
       "Name: Haplogroup, dtype: int64"
      ]
     },
     "execution_count": 127,
     "metadata": {},
     "output_type": "execute_result"
    }
   ],
   "source": [
    "df[df.Input_Sample.isin(obs_muts)].groupby(\"SampleID\").Haplogroup.count().value_counts().sort_index()#.plot.bar()"
   ]
  },
  {
   "cell_type": "code",
   "execution_count": 143,
   "metadata": {},
   "outputs": [],
   "source": [
    "d = df[df.Input_Sample.isin(obs_muts)].groupby(\"SampleID\").Haplogroup.count().sort_values()"
   ]
  },
  {
   "cell_type": "code",
   "execution_count": 150,
   "metadata": {},
   "outputs": [],
   "source": [
    "sim_genomes = df[(df.Pos.isin(dloop_positions)) & (df.SampleID.isin(d[d == 7].index.values))].groupby(\"SampleID\").apply(lambda x: list(x.Input_Sample.values))#.Input_Sample.value_counts()"
   ]
  },
  {
   "cell_type": "code",
   "execution_count": 114,
   "metadata": {},
   "outputs": [
    {
     "data": {
      "text/plain": [
       "8"
      ]
     },
     "execution_count": 114,
     "metadata": {},
     "output_type": "execute_result"
    }
   ],
   "source": [
    "len(obs_muts)"
   ]
  },
  {
   "cell_type": "code",
   "execution_count": 118,
   "metadata": {},
   "outputs": [
    {
     "data": {
      "text/plain": [
       "700116"
      ]
     },
     "execution_count": 118,
     "metadata": {},
     "output_type": "execute_result"
    }
   ],
   "source": [
    "1500142 -800026"
   ]
  },
  {
   "cell_type": "code",
   "execution_count": null,
   "metadata": {},
   "outputs": [],
   "source": []
  }
 ],
 "metadata": {
  "kernelspec": {
   "display_name": "env_bio",
   "language": "python",
   "name": "python3"
  },
  "language_info": {
   "codemirror_mode": {
    "name": "ipython",
    "version": 3
   },
   "file_extension": ".py",
   "mimetype": "text/x-python",
   "name": "python",
   "nbconvert_exporter": "python",
   "pygments_lexer": "ipython3",
   "version": "3.9.5"
  },
  "orig_nbformat": 4,
  "vscode": {
   "interpreter": {
    "hash": "c737589ac25c2b5207a58295544dae93bde342e9f173b68ed1d9625ade55517f"
   }
  }
 },
 "nbformat": 4,
 "nbformat_minor": 2
}
